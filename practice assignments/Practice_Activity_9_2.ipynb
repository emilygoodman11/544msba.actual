{
  "nbformat": 4,
  "nbformat_minor": 0,
  "metadata": {
    "colab": {
      "provenance": []
    },
    "kernelspec": {
      "name": "python3",
      "display_name": "Python 3"
    },
    "language_info": {
      "name": "python"
    }
  },
  "cells": [
    {
      "cell_type": "markdown",
      "source": [
        "\n",
        "Our dataset consists of clinical data from patients who entered the hospital complaining of chest pain (\"angina\") during exercise.  The information collected includes:\n",
        "\n",
        "* `age` : Age of the patient\n",
        "\n",
        "* `sex` : Sex of the patient\n",
        "\n",
        "* `cp` : Chest Pain type\n",
        "\n",
        "    + Value 0: asymptomatic\n",
        "    + Value 1: typical angina\n",
        "    + Value 2: atypical angina\n",
        "    + Value 3: non-anginal pain\n",
        "   \n",
        "    \n",
        "* `trtbps` : resting blood pressure (in mm Hg)\n",
        "\n",
        "* `chol` : cholesterol in mg/dl fetched via BMI sensor\n",
        "\n",
        "* `restecg` : resting electrocardiographic results\n",
        "\n",
        "    + Value 0: normal\n",
        "    + Value 1: having ST-T wave abnormality (T wave inversions and/or ST elevation or depression of > 0.05 mV)\n",
        "    + Value 2: showing probable or definite left ventricular hypertrophy by Estes' criteria\n",
        "\n",
        "* `thalach` : maximum heart rate achieved during exercise\n",
        "\n",
        "* `output` : the doctor's diagnosis of whether the patient is at risk for a heart attack\n",
        "    + 0 = not at risk of heart attack\n",
        "    + 1 = at risk of heart attack"
      ],
      "metadata": {
        "id": "P_N9XP2-04VH"
      }
    },
    {
      "cell_type": "code",
      "source": [
        "import pandas as pd\n",
        "import numpy as np\n",
        "from sklearn.pipeline import Pipeline\n",
        "from sklearn.compose import make_column_selector, ColumnTransformer\n",
        "from sklearn.preprocessing import StandardScaler, OneHotEncoder, PolynomialFeatures\n",
        "from sklearn.linear_model import LinearRegression, Ridge, Lasso, ElasticNet\n",
        "from sklearn.model_selection import train_test_split, cross_val_score\n",
        "from sklearn.metrics import r2_score\n",
        "from sklearn.model_selection import GridSearchCV\n",
        "import warnings\n",
        "warnings.filterwarnings('ignore')\n",
        "from sklearn.linear_model import LogisticRegression\n",
        "from sklearn.discriminant_analysis import LinearDiscriminantAnalysis\n",
        "from sklearn.svm import SVC\n",
        "from sklearn.tree import DecisionTreeClassifier\n",
        "from sklearn.neighbors import KNeighborsClassifier\n",
        "from sklearn.metrics import f1_score"
      ],
      "metadata": {
        "id": "tZmjmGGQ1CaN"
      },
      "execution_count": 7,
      "outputs": []
    },
    {
      "cell_type": "code",
      "execution_count": 2,
      "metadata": {
        "id": "ghXbwhv600-S"
      },
      "outputs": [],
      "source": [
        "ha = pd.read_csv(\"https://www.dropbox.com/s/aohbr6yb9ifmc8w/heart_attack.csv?dl=1\")"
      ]
    },
    {
      "cell_type": "code",
      "source": [
        "ct = ColumnTransformer(\n",
        "  [\n",
        "    (\"dummify\",\n",
        "    OneHotEncoder(sparse_output = False, handle_unknown='ignore'),\n",
        "    make_column_selector(dtype_include=object)),\n",
        "    (\"standardize\",\n",
        "    StandardScaler(),\n",
        "    make_column_selector(dtype_include=np.number))\n",
        "  ],\n",
        "  remainder = \"passthrough\"\n",
        ").set_output(transform = \"pandas\")"
      ],
      "metadata": {
        "id": "fHfQHEa_tT8T"
      },
      "execution_count": 4,
      "outputs": []
    },
    {
      "cell_type": "markdown",
      "source": [
        "## Q1: Natural Multiclass Models\n",
        "\n",
        "Fit a multiclass KNN, Decision Tree, and LDA for the heart disease data; this time predicting the type of chest pain (categories 0 - 3) that a patient experiences.  For the decision tree, plot the fitted tree, and interpret the first couple splits.\n"
      ],
      "metadata": {
        "id": "OCX180v41bhe"
      }
    },
    {
      "cell_type": "code",
      "source": [
        "#knn\n",
        "X = ha.drop(columns=[\"cp_is_2\", \"cp\", \"cp_is_3\",\"cp_is_1\", \"cp_is_0\"])\n",
        "y = ha[\"cp\"]\n",
        "\n",
        "knn_pipeline = Pipeline([\n",
        "    (\"ct\", ct),\n",
        "    (\"knn\", KNeighborsClassifier())\n",
        "])\n",
        "\n",
        "knn_pipeline.fit(X,y)\n",
        "scores1 = cross_val_score(knn_pipeline, X, y, cv=5, scoring=\"roc_auc_ovr\").mean()\n",
        "print(f\"roc auc Score: {scores1}\")\n",
        "\n",
        "#decision\n",
        "dt_pipeline=Pipeline([\n",
        "    (\"ct\", ct),\n",
        "    (\"dt\", DecisionTreeClassifier(max_depth=3))\n",
        "])\n",
        "\n",
        "\n",
        "dt_pipeline.fit(X,y)\n",
        "scores2= cross_val_score(dt_pipeline, X, y, cv=5, scoring=\"roc_auc_ovr\").mean()\n",
        "print(f\"roc auc Score: {scores2}\")\n",
        "\n",
        "#lda\n",
        "lda_pipeline=Pipeline([\n",
        "    (\"ct\", ct),\n",
        "    (\"lda\", LinearDiscriminantAnalysis())\n",
        "])\n",
        "\n",
        "lda_pipeline.fit(X,y)\n",
        "scores3= cross_val_score(lda_pipeline, X, y, cv=5, scoring=\"roc_auc_ovr\").mean()\n",
        "print(f\"roc auc Score: {scores3}\")"
      ],
      "metadata": {
        "id": "WJsMBCZh1glq",
        "colab": {
          "base_uri": "https://localhost:8080/"
        },
        "outputId": "9b132357-5f01-445b-898e-d85fc0e7d2f2"
      },
      "execution_count": 102,
      "outputs": [
        {
          "output_type": "stream",
          "name": "stdout",
          "text": [
            "roc auc Score: 0.5962262199130134\n",
            "roc auc Score: 0.6543471001430293\n",
            "roc auc Score: 0.7057410454407037\n"
          ]
        }
      ]
    },
    {
      "cell_type": "code",
      "source": [
        "ccp_alpha\n",
        "is the best for the decision tree\n"
      ],
      "metadata": {
        "id": "I4xQwW7620bc"
      },
      "execution_count": null,
      "outputs": []
    },
    {
      "cell_type": "code",
      "source": [
        "from sklearn.tree import plot_tree\n",
        "import matplotlib.pyplot as plt\n",
        "\n",
        "decision_tree = dt_pipeline.named_steps[\"dt\"]\n",
        "plt.figure(figsize=(12, 8))\n",
        "plot_tree(decision_tree, filled=True, feature_names=ct.get_feature_names_out(), rounded=True, proportion=True)\n",
        "plt.show()"
      ],
      "metadata": {
        "colab": {
          "base_uri": "https://localhost:8080/",
          "height": 653
        },
        "id": "XqMXyM96wvx6",
        "outputId": "53931f07-425a-4f6b-cbe5-57b898e96d93"
      },
      "execution_count": 103,
      "outputs": [
        {
          "output_type": "display_data",
          "data": {
            "text/plain": [
              "<Figure size 1200x800 with 1 Axes>"
            ],
            "image/png": "[encoded data removed]"
          },
          "metadata": {}
        }
      ]
    },
    {
      "cell_type": "markdown",
      "source": [
        "THe most important variables is output, trtbps, thalach, and gini"
      ],
      "metadata": {
        "id": "59xudXJs4jwA"
      }
    },
    {
      "cell_type": "markdown",
      "source": [
        "## Q2:  OvR\n",
        "\n",
        "Create a new column in the `ha` dataset called `cp_is_3`, which is equal to `1` if the `cp` variable is equal to `3` and `0` otherwise.\n",
        "\n",
        "Then, fit a Logistic Regression to predict this new target, and report the **F1 Score**.\n",
        "\n",
        "Repeat for the other three `cp` categories.  Which category was the OvR approach best at distinguishing?"
      ],
      "metadata": {
        "id": "gYqpOtbO1EAJ"
      }
    },
    {
      "cell_type": "code",
      "source": [
        "ha[\"cp_is_3\"] = np.where(ha[\"cp\"] == 3, 1, 0)\n",
        "\n",
        "X2= ha.drop(columns=[\"cp_is_2\", \"cp\", \"cp_is_3\",\"cp_is_1\", \"cp_is_0\"])\n",
        "y2= ha[\"cp_is_3\"]\n",
        "\n",
        "logreg_pipeline=Pipeline([\n",
        "    (\"ct\", ct),\n",
        "    (\"logreg\", LogisticRegression(max_iter=1000))  # Logistic Regression with increased iterations for convergence\n",
        "])\n",
        "\n",
        "logfit= logreg_pipeline.fit(X,y)\n",
        "scores= cross_val_score(logreg_pipeline, X2, y2, cv=5, scoring=\"f1\").mean()\n",
        "print(f\"F1 Score 3: {scores}\")\n"
      ],
      "metadata": {
        "id": "90PfjsjW1T2Y",
        "colab": {
          "base_uri": "https://localhost:8080/"
        },
        "outputId": "fc86fd0a-aec6-4d4e-bf24-3d9d88677c3f"
      },
      "execution_count": 51,
      "outputs": [
        {
          "output_type": "stream",
          "name": "stdout",
          "text": [
            "F1 Score 3: 0.0\n"
          ]
        }
      ]
    },
    {
      "cell_type": "code",
      "source": [
        "ha[\"cp_is_2\"] = np.where(ha[\"cp\"] == 2, 1, 0)\n",
        "\n",
        "X1= ha.drop(columns=[\"cp_is_2\", \"cp\", \"cp_is_3\",\"cp_is_1\", \"cp_is_0\"])\n",
        "y1= ha[\"cp_is_2\"]\n",
        "\n",
        "logreg_pipeline=Pipeline([\n",
        "    (\"ct\", ct),\n",
        "    (\"logreg\", LogisticRegression(max_iter=1000))  # Logistic Regression with increased iterations for convergence\n",
        "])\n",
        "\n",
        "logfit= logreg_pipeline.fit(X,y)\n",
        "scores= cross_val_score(logreg_pipeline, X1, y1, cv=5, scoring=\"f1\").mean()\n",
        "print(f\"F1 Score 2: {scores}\")"
      ],
      "metadata": {
        "colab": {
          "base_uri": "https://localhost:8080/"
        },
        "id": "sLfbnpdHt48a",
        "outputId": "2223d388-e825-466f-c262-bb414984e7ba"
      },
      "execution_count": 50,
      "outputs": [
        {
          "output_type": "stream",
          "name": "stdout",
          "text": [
            "F1 Score 2: 0.1393939393939394\n"
          ]
        }
      ]
    },
    {
      "cell_type": "code",
      "source": [
        "ha[\"cp_is_1\"] = np.where(ha[\"cp\"] == 1, 1, 0)\n",
        "\n",
        "X3= ha.drop(columns=[\"cp_is_2\", \"cp\", \"cp_is_3\",\"cp_is_1\", \"cp_is_0\"])\n",
        "y3= ha[\"cp_is_1\"]\n",
        "\n",
        "logreg_pipeline=Pipeline([\n",
        "    (\"ct\", ct),\n",
        "    (\"logreg\", LogisticRegression(max_iter=1000))  # Logistic Regression with increased iterations for convergence\n",
        "])\n",
        "\n",
        "logfit= logreg_pipeline.fit(X,y)\n",
        "scores= cross_val_score(logreg_pipeline, X3, y3, cv=5, scoring=\"f1\").mean()\n",
        "print(f\"F1 Score 1: {scores}\")"
      ],
      "metadata": {
        "colab": {
          "base_uri": "https://localhost:8080/"
        },
        "id": "N9TnCrlDuFWx",
        "outputId": "5bd6cf98-1828-49bf-9674-983ff86cbb8e"
      },
      "execution_count": 49,
      "outputs": [
        {
          "output_type": "stream",
          "name": "stdout",
          "text": [
            "F1 Score 1: 0.0\n"
          ]
        }
      ]
    },
    {
      "cell_type": "code",
      "source": [
        "ha[\"cp_is_0\"] = np.where(ha[\"cp\"] == 0, 1, 0)\n",
        "\n",
        "X3= ha.drop(columns=[\"cp_is_2\", \"cp\", \"cp_is_3\",\"cp_is_1\", \"cp_is_0\"])\n",
        "y3= ha[\"cp_is_0\"]\n",
        "\n",
        "logreg_pipeline=Pipeline([\n",
        "    (\"ct\", ct),\n",
        "    (\"logreg\", LogisticRegression(max_iter=1000))\n",
        "])\n",
        "\n",
        "logfit= logreg_pipeline.fit(X,y)\n",
        "scores= cross_val_score(logreg_pipeline, X3, y3, cv=5, scoring=\"f1\").mean()\n",
        "print(f\"F1 Score 1: {scores}\")"
      ],
      "metadata": {
        "colab": {
          "base_uri": "https://localhost:8080/"
        },
        "id": "SA8LOuT-wOYm",
        "outputId": "c724b793-163e-4db3-a3fa-8cc0367de8da"
      },
      "execution_count": 99,
      "outputs": [
        {
          "output_type": "stream",
          "name": "stdout",
          "text": [
            "F1 Score 1: 0.6525962644949986\n"
          ]
        }
      ]
    },
    {
      "cell_type": "markdown",
      "source": [
        "## Q3: OvO\n",
        "\n",
        "Reduce your dataset to only the `0` and `1` types of chest pain.\n",
        "\n",
        "Then, fit a Logistic Regression to predict between the two groups, and report the **ROC-AUC**.  \n",
        "\n",
        "Repeat comparing category `0` to `2` and `3`.  Which pair was the OvO approach best at distinguishing?"
      ],
      "metadata": {
        "id": "lXO3jbTU1ULR"
      }
    },
    {
      "cell_type": "code",
      "source": [
        "ha1= ha[(ha[\"cp\"]==0)|(ha[\"cp\"]==1)]\n",
        "\n",
        "X4=ha1.drop(columns=[\"cp_is_2\", \"cp\", \"cp_is_3\",\"cp_is_1\", \"cp_is_0\"])\n",
        "y4=ha1[\"cp\"]\n",
        "\n",
        "logreg_pipeline=Pipeline([\n",
        "    (\"ct\", ct),\n",
        "    (\"logreg\", LogisticRegression(max_iter=1000))\n",
        "])\n",
        "\n",
        "logfit= logreg_pipeline.fit(X,y)\n",
        "scores= cross_val_score(logreg_pipeline, X4, y4, cv=5, scoring=\"roc_auc\").mean()\n",
        "print(f\"roc auc: {scores}\")"
      ],
      "metadata": {
        "id": "THrjnRoV1siy",
        "colab": {
          "base_uri": "https://localhost:8080/"
        },
        "outputId": "c2a0415e-2e48-4517-920f-7e2b2aa9d025"
      },
      "execution_count": 97,
      "outputs": [
        {
          "output_type": "stream",
          "name": "stdout",
          "text": [
            "roc auc: 0.8376709401709401\n"
          ]
        }
      ]
    },
    {
      "cell_type": "code",
      "source": [
        "ha2= ha[(ha[\"cp\"]==0)|(ha[\"cp\"]==2)]\n",
        "\n",
        "X5=ha2.drop(columns=[\"cp_is_2\", \"cp\", \"cp_is_3\",\"cp_is_1\", \"cp_is_0\"])\n",
        "y5=ha2[\"cp\"]\n",
        "\n",
        "logreg_pipeline=Pipeline([\n",
        "    (\"ct\", ct),\n",
        "    (\"logreg\", LogisticRegression(max_iter=1000))\n",
        "])\n",
        "\n",
        "logfit= logreg_pipeline.fit(X,y)\n",
        "scores= cross_val_score(logreg_pipeline, X5, y5, cv=5, scoring=\"roc_auc\").mean()\n",
        "print(f\"roc auc: {scores}\")"
      ],
      "metadata": {
        "colab": {
          "base_uri": "https://localhost:8080/"
        },
        "id": "mF0B6Nh_0WrA",
        "outputId": "8a6b4827-d013-4d17-e078-6d54e9b4e1a9"
      },
      "execution_count": 94,
      "outputs": [
        {
          "output_type": "stream",
          "name": "stdout",
          "text": [
            "roc auc: 0.7511029411764706\n"
          ]
        }
      ]
    },
    {
      "cell_type": "code",
      "source": [
        "ha3= ha[(ha[\"cp\"]==0)|(ha[\"cp\"]==3)]\n",
        "\n",
        "X6=ha3.drop(columns=[\"cp_is_2\", \"cp\", \"cp_is_3\",\"cp_is_1\", \"cp_is_0\"])\n",
        "y6=ha3[\"cp\"]\n",
        "\n",
        "logreg_pipeline=Pipeline([\n",
        "    (\"ct\", ct),\n",
        "    (\"logreg\", LogisticRegression(max_iter=1000))\n",
        "])\n",
        "\n",
        "logfit= logreg_pipeline.fit(X,y)\n",
        "scores= cross_val_score(logreg_pipeline, X6, y6, cv=5, scoring=\"roc_auc\").mean()\n",
        "print(f\"roc auc: {scores}\")"
      ],
      "metadata": {
        "colab": {
          "base_uri": "https://localhost:8080/"
        },
        "id": "UAfe1dCk0saS",
        "outputId": "3a8164c2-0190-49ab-9f24-6a1c6f72b690"
      },
      "execution_count": 95,
      "outputs": [
        {
          "output_type": "stream",
          "name": "stdout",
          "text": [
            "roc auc: 0.7412307692307692\n"
          ]
        }
      ]
    }
  ]
}