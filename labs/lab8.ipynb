{
 "cells": [
  {
   "cell_type": "raw",
   "metadata": {
    "vscode": {
     "languageId": "raw"
    }
   },
   "source": [
    "---\n",
    "Title: Lab_8\n",
    "author: Emily_Goodman\n",
    "format: \n",
    "  html:\n",
    "    code-fold: True\n",
    "    theme: flatly\n",
    "embed-resources: true\n",
    "---"
   ]
  },
  {
   "cell_type": "markdown",
   "metadata": {
    "id": "cbRZN7ziqnfQ"
   },
   "source": [
    "#Lab 8: Linear Classifiers\n",
    "Instructions\n",
    "You will submit an HTML document to Canvas as your final version.\n",
    "\n",
    "Your document should show your code chunks/cells as well as any output. Make sure that only relevant output is printed. Do not, for example, print the entire dataset in your final rendered file.\n",
    "\n",
    "Your document should also be clearly organized, so that it is easy for a reader to find your answers to each question."
   ]
  },
  {
   "cell_type": "code",
   "execution_count": 33,
   "metadata": {
    "id": "YCJ_4ih4oOet"
   },
   "outputs": [],
   "source": [
    "import pandas as pd\n",
    "import numpy as np\n",
    "from sklearn.pipeline import Pipeline\n",
    "from sklearn.compose import make_column_selector, ColumnTransformer\n",
    "from sklearn.preprocessing import StandardScaler, OneHotEncoder, PolynomialFeatures\n",
    "from sklearn.linear_model import LinearRegression, Ridge, Lasso, ElasticNet\n",
    "from sklearn.model_selection import train_test_split, cross_val_score\n",
    "from sklearn.metrics import r2_score\n",
    "from sklearn.model_selection import GridSearchCV\n",
    "import warnings\n",
    "warnings.filterwarnings('ignore')\n",
    "from sklearn.linear_model import LogisticRegression\n",
    "from sklearn.discriminant_analysis import LinearDiscriminantAnalysis\n",
    "from sklearn.svm import SVC\n",
    "from sklearn.tree import DecisionTreeClassifier\n",
    "from sklearn.neighbors import KNeighborsClassifier\n",
    "from sklearn.metrics import f1_score\n",
    "from sklearn.metrics import confusion_matrix, ConfusionMatrixDisplay\n",
    "import matplotlib.pyplot as plt\n",
    "import seaborn as sns\n",
    "from sklearn.metrics import classification_report\n",
    "from sklearn.metrics import ConfusionMatrixDisplay\n",
    "#i got chat to help with automation for the code, such as making loops for part 3 q3 and making param grids.\n",
    "#also used it to comment out the code"
   ]
  },
  {
   "cell_type": "markdown",
   "metadata": {
    "id": "E8h5M-vDqFWR"
   },
   "source": [
    "##Part One: Binary Classification\n",
    "Create a dataset that is limited only to the Sativa and Indica type cannabis strains.\n",
    "\n",
    "This section asks you to create a final best model for each of the four new model types studied this week: LDA, QDA, SVC, and SVM. For SVM, you may limit yourself to only the polynomial kernel.\n",
    "\n",
    "For each, you should:\n",
    "\n",
    "Choose a metric you will use to select your model, and briefly justify your choice. (Hint: There is no specific target category here, so this should not be a metric that only prioritizes one category.)\n",
    "\n",
    "Find the best model for predicting the Type variable. Don’t forget to tune any hyperparameters.\n",
    "\n",
    "Report the (cross-validated!) metric.\n",
    "\n",
    "Fit the final model.\n",
    "\n",
    "Output a confusion matrix."
   ]
  },
  {
   "cell_type": "code",
   "execution_count": 5,
   "metadata": {
    "colab": {
     "base_uri": "https://localhost:8080/",
     "height": 342
    },
    "id": "tLBpWqSsqEgK",
    "outputId": "ae6e209e-bef7-4e91-8c38-e7fcc3b70f9f"
   },
   "outputs": [
    {
     "data": {
      "application/vnd.google.colaboratory.intrinsic+json": {
       "type": "dataframe",
       "variable_name": "df"
      },
      "text/html": [
       "\n",
       "  <div id=\"df-e0daf854-f337-4535-a491-8cbc14e29d9b\" class=\"colab-df-container\">\n",
       "    <div>\n",
       "<style scoped>\n",
       "    .dataframe tbody tr th:only-of-type {\n",
       "        vertical-align: middle;\n",
       "    }\n",
       "\n",
       "    .dataframe tbody tr th {\n",
       "        vertical-align: top;\n",
       "    }\n",
       "\n",
       "    .dataframe thead th {\n",
       "        text-align: right;\n",
       "    }\n",
       "</style>\n",
       "<table border=\"1\" class=\"dataframe\">\n",
       "  <thead>\n",
       "    <tr style=\"text-align: right;\">\n",
       "      <th></th>\n",
       "      <th>Strain</th>\n",
       "      <th>Type</th>\n",
       "      <th>Rating</th>\n",
       "      <th>Effects</th>\n",
       "      <th>Flavor</th>\n",
       "      <th>Creative</th>\n",
       "      <th>Energetic</th>\n",
       "      <th>Tingly</th>\n",
       "      <th>Euphoric</th>\n",
       "      <th>Relaxed</th>\n",
       "      <th>...</th>\n",
       "      <th>Ammonia</th>\n",
       "      <th>Minty</th>\n",
       "      <th>Tree</th>\n",
       "      <th>Fruit</th>\n",
       "      <th>Butter</th>\n",
       "      <th>Pineapple</th>\n",
       "      <th>Tar</th>\n",
       "      <th>Rose</th>\n",
       "      <th>Plum</th>\n",
       "      <th>Pear</th>\n",
       "    </tr>\n",
       "  </thead>\n",
       "  <tbody>\n",
       "    <tr>\n",
       "      <th>0</th>\n",
       "      <td>100-Og</td>\n",
       "      <td>hybrid</td>\n",
       "      <td>4.0</td>\n",
       "      <td>Creative,Energetic,Tingly,Euphoric,Relaxed</td>\n",
       "      <td>Earthy,Sweet,Citrus</td>\n",
       "      <td>1.0</td>\n",
       "      <td>1.0</td>\n",
       "      <td>1.0</td>\n",
       "      <td>1.0</td>\n",
       "      <td>1.0</td>\n",
       "      <td>...</td>\n",
       "      <td>0.0</td>\n",
       "      <td>0.0</td>\n",
       "      <td>0.0</td>\n",
       "      <td>0.0</td>\n",
       "      <td>0.0</td>\n",
       "      <td>0.0</td>\n",
       "      <td>0.0</td>\n",
       "      <td>0.0</td>\n",
       "      <td>0.0</td>\n",
       "      <td>0.0</td>\n",
       "    </tr>\n",
       "    <tr>\n",
       "      <th>1</th>\n",
       "      <td>98-White-Widow</td>\n",
       "      <td>hybrid</td>\n",
       "      <td>4.7</td>\n",
       "      <td>Relaxed,Aroused,Creative,Happy,Energetic</td>\n",
       "      <td>Flowery,Violet,Diesel</td>\n",
       "      <td>1.0</td>\n",
       "      <td>1.0</td>\n",
       "      <td>0.0</td>\n",
       "      <td>0.0</td>\n",
       "      <td>1.0</td>\n",
       "      <td>...</td>\n",
       "      <td>0.0</td>\n",
       "      <td>0.0</td>\n",
       "      <td>0.0</td>\n",
       "      <td>0.0</td>\n",
       "      <td>0.0</td>\n",
       "      <td>0.0</td>\n",
       "      <td>0.0</td>\n",
       "      <td>0.0</td>\n",
       "      <td>0.0</td>\n",
       "      <td>0.0</td>\n",
       "    </tr>\n",
       "    <tr>\n",
       "      <th>2</th>\n",
       "      <td>1024</td>\n",
       "      <td>sativa</td>\n",
       "      <td>4.4</td>\n",
       "      <td>Uplifted,Happy,Relaxed,Energetic,Creative</td>\n",
       "      <td>Spicy/Herbal,Sage,Woody</td>\n",
       "      <td>1.0</td>\n",
       "      <td>1.0</td>\n",
       "      <td>0.0</td>\n",
       "      <td>0.0</td>\n",
       "      <td>1.0</td>\n",
       "      <td>...</td>\n",
       "      <td>0.0</td>\n",
       "      <td>0.0</td>\n",
       "      <td>0.0</td>\n",
       "      <td>0.0</td>\n",
       "      <td>0.0</td>\n",
       "      <td>0.0</td>\n",
       "      <td>0.0</td>\n",
       "      <td>0.0</td>\n",
       "      <td>0.0</td>\n",
       "      <td>0.0</td>\n",
       "    </tr>\n",
       "    <tr>\n",
       "      <th>3</th>\n",
       "      <td>13-Dawgs</td>\n",
       "      <td>hybrid</td>\n",
       "      <td>4.2</td>\n",
       "      <td>Tingly,Creative,Hungry,Relaxed,Uplifted</td>\n",
       "      <td>Apricot,Citrus,Grapefruit</td>\n",
       "      <td>1.0</td>\n",
       "      <td>0.0</td>\n",
       "      <td>1.0</td>\n",
       "      <td>0.0</td>\n",
       "      <td>1.0</td>\n",
       "      <td>...</td>\n",
       "      <td>0.0</td>\n",
       "      <td>0.0</td>\n",
       "      <td>0.0</td>\n",
       "      <td>0.0</td>\n",
       "      <td>0.0</td>\n",
       "      <td>0.0</td>\n",
       "      <td>0.0</td>\n",
       "      <td>0.0</td>\n",
       "      <td>0.0</td>\n",
       "      <td>0.0</td>\n",
       "    </tr>\n",
       "    <tr>\n",
       "      <th>4</th>\n",
       "      <td>24K-Gold</td>\n",
       "      <td>hybrid</td>\n",
       "      <td>4.6</td>\n",
       "      <td>Happy,Relaxed,Euphoric,Uplifted,Talkative</td>\n",
       "      <td>Citrus,Earthy,Orange</td>\n",
       "      <td>0.0</td>\n",
       "      <td>0.0</td>\n",
       "      <td>0.0</td>\n",
       "      <td>1.0</td>\n",
       "      <td>1.0</td>\n",
       "      <td>...</td>\n",
       "      <td>0.0</td>\n",
       "      <td>0.0</td>\n",
       "      <td>0.0</td>\n",
       "      <td>0.0</td>\n",
       "      <td>0.0</td>\n",
       "      <td>0.0</td>\n",
       "      <td>0.0</td>\n",
       "      <td>0.0</td>\n",
       "      <td>0.0</td>\n",
       "      <td>0.0</td>\n",
       "    </tr>\n",
       "  </tbody>\n",
       "</table>\n",
       "<p>5 rows × 69 columns</p>\n",
       "</div>\n",
       "    <div class=\"colab-df-buttons\">\n",
       "\n",
       "  <div class=\"colab-df-container\">\n",
       "    <button class=\"colab-df-convert\" onclick=\"convertToInteractive('df-e0daf854-f337-4535-a491-8cbc14e29d9b')\"\n",
       "            title=\"Convert this dataframe to an interactive table.\"\n",
       "            style=\"display:none;\">\n",
       "\n",
       "  <svg xmlns=\"http://www.w3.org/2000/svg\" height=\"24px\" viewBox=\"0 -960 960 960\">\n",
       "    <path d=\"M120-120v-720h720v720H120Zm60-500h600v-160H180v160Zm220 220h160v-160H400v160Zm0 220h160v-160H400v160ZM180-400h160v-160H180v160Zm440 0h160v-160H620v160ZM180-180h160v-160H180v160Zm440 0h160v-160H620v160Z\"/>\n",
       "  </svg>\n",
       "    </button>\n",
       "\n",
       "  <style>\n",
       "    .colab-df-container {\n",
       "      display:flex;\n",
       "      gap: 12px;\n",
       "    }\n",
       "\n",
       "    .colab-df-convert {\n",
       "      background-color: #E8F0FE;\n",
       "      border: none;\n",
       "      border-radius: 50%;\n",
       "      cursor: pointer;\n",
       "      display: none;\n",
       "      fill: #1967D2;\n",
       "      height: 32px;\n",
       "      padding: 0 0 0 0;\n",
       "      width: 32px;\n",
       "    }\n",
       "\n",
       "    .colab-df-convert:hover {\n",
       "      background-color: #E2EBFA;\n",
       "      box-shadow: 0px 1px 2px rgba(60, 64, 67, 0.3), 0px 1px 3px 1px rgba(60, 64, 67, 0.15);\n",
       "      fill: #174EA6;\n",
       "    }\n",
       "\n",
       "    .colab-df-buttons div {\n",
       "      margin-bottom: 4px;\n",
       "    }\n",
       "\n",
       "    [theme=dark] .colab-df-convert {\n",
       "      background-color: #3B4455;\n",
       "      fill: #D2E3FC;\n",
       "    }\n",
       "\n",
       "    [theme=dark] .colab-df-convert:hover {\n",
       "      background-color: #434B5C;\n",
       "      box-shadow: 0px 1px 3px 1px rgba(0, 0, 0, 0.15);\n",
       "      filter: drop-shadow(0px 1px 2px rgba(0, 0, 0, 0.3));\n",
       "      fill: #FFFFFF;\n",
       "    }\n",
       "  </style>\n",
       "\n",
       "    <script>\n",
       "      const buttonEl =\n",
       "        document.querySelector('#df-e0daf854-f337-4535-a491-8cbc14e29d9b button.colab-df-convert');\n",
       "      buttonEl.style.display =\n",
       "        google.colab.kernel.accessAllowed ? 'block' : 'none';\n",
       "\n",
       "      async function convertToInteractive(key) {\n",
       "        const element = document.querySelector('#df-e0daf854-f337-4535-a491-8cbc14e29d9b');\n",
       "        const dataTable =\n",
       "          await google.colab.kernel.invokeFunction('convertToInteractive',\n",
       "                                                    [key], {});\n",
       "        if (!dataTable) return;\n",
       "\n",
       "        const docLinkHtml = 'Like what you see? Visit the ' +\n",
       "          '<a target=\"_blank\" href=https://colab.research.google.com/notebooks/data_table.ipynb>data table notebook</a>'\n",
       "          + ' to learn more about interactive tables.';\n",
       "        element.innerHTML = '';\n",
       "        dataTable['output_type'] = 'display_data';\n",
       "        await google.colab.output.renderOutput(dataTable, element);\n",
       "        const docLink = document.createElement('div');\n",
       "        docLink.innerHTML = docLinkHtml;\n",
       "        element.appendChild(docLink);\n",
       "      }\n",
       "    </script>\n",
       "  </div>\n",
       "\n",
       "\n",
       "<div id=\"df-d586bc14-6bec-453f-b632-615f3b94951b\">\n",
       "  <button class=\"colab-df-quickchart\" onclick=\"quickchart('df-d586bc14-6bec-453f-b632-615f3b94951b')\"\n",
       "            title=\"Suggest charts\"\n",
       "            style=\"display:none;\">\n",
       "\n",
       "<svg xmlns=\"http://www.w3.org/2000/svg\" height=\"24px\"viewBox=\"0 0 24 24\"\n",
       "     width=\"24px\">\n",
       "    <g>\n",
       "        <path d=\"M19 3H5c-1.1 0-2 .9-2 2v14c0 1.1.9 2 2 2h14c1.1 0 2-.9 2-2V5c0-1.1-.9-2-2-2zM9 17H7v-7h2v7zm4 0h-2V7h2v10zm4 0h-2v-4h2v4z\"/>\n",
       "    </g>\n",
       "</svg>\n",
       "  </button>\n",
       "\n",
       "<style>\n",
       "  .colab-df-quickchart {\n",
       "      --bg-color: #E8F0FE;\n",
       "      --fill-color: #1967D2;\n",
       "      --hover-bg-color: #E2EBFA;\n",
       "      --hover-fill-color: #174EA6;\n",
       "      --disabled-fill-color: #AAA;\n",
       "      --disabled-bg-color: #DDD;\n",
       "  }\n",
       "\n",
       "  [theme=dark] .colab-df-quickchart {\n",
       "      --bg-color: #3B4455;\n",
       "      --fill-color: #D2E3FC;\n",
       "      --hover-bg-color: #434B5C;\n",
       "      --hover-fill-color: #FFFFFF;\n",
       "      --disabled-bg-color: #3B4455;\n",
       "      --disabled-fill-color: #666;\n",
       "  }\n",
       "\n",
       "  .colab-df-quickchart {\n",
       "    background-color: var(--bg-color);\n",
       "    border: none;\n",
       "    border-radius: 50%;\n",
       "    cursor: pointer;\n",
       "    display: none;\n",
       "    fill: var(--fill-color);\n",
       "    height: 32px;\n",
       "    padding: 0;\n",
       "    width: 32px;\n",
       "  }\n",
       "\n",
       "  .colab-df-quickchart:hover {\n",
       "    background-color: var(--hover-bg-color);\n",
       "    box-shadow: 0 1px 2px rgba(60, 64, 67, 0.3), 0 1px 3px 1px rgba(60, 64, 67, 0.15);\n",
       "    fill: var(--button-hover-fill-color);\n",
       "  }\n",
       "\n",
       "  .colab-df-quickchart-complete:disabled,\n",
       "  .colab-df-quickchart-complete:disabled:hover {\n",
       "    background-color: var(--disabled-bg-color);\n",
       "    fill: var(--disabled-fill-color);\n",
       "    box-shadow: none;\n",
       "  }\n",
       "\n",
       "  .colab-df-spinner {\n",
       "    border: 2px solid var(--fill-color);\n",
       "    border-color: transparent;\n",
       "    border-bottom-color: var(--fill-color);\n",
       "    animation:\n",
       "      spin 1s steps(1) infinite;\n",
       "  }\n",
       "\n",
       "  @keyframes spin {\n",
       "    0% {\n",
       "      border-color: transparent;\n",
       "      border-bottom-color: var(--fill-color);\n",
       "      border-left-color: var(--fill-color);\n",
       "    }\n",
       "    20% {\n",
       "      border-color: transparent;\n",
       "      border-left-color: var(--fill-color);\n",
       "      border-top-color: var(--fill-color);\n",
       "    }\n",
       "    30% {\n",
       "      border-color: transparent;\n",
       "      border-left-color: var(--fill-color);\n",
       "      border-top-color: var(--fill-color);\n",
       "      border-right-color: var(--fill-color);\n",
       "    }\n",
       "    40% {\n",
       "      border-color: transparent;\n",
       "      border-right-color: var(--fill-color);\n",
       "      border-top-color: var(--fill-color);\n",
       "    }\n",
       "    60% {\n",
       "      border-color: transparent;\n",
       "      border-right-color: var(--fill-color);\n",
       "    }\n",
       "    80% {\n",
       "      border-color: transparent;\n",
       "      border-right-color: var(--fill-color);\n",
       "      border-bottom-color: var(--fill-color);\n",
       "    }\n",
       "    90% {\n",
       "      border-color: transparent;\n",
       "      border-bottom-color: var(--fill-color);\n",
       "    }\n",
       "  }\n",
       "</style>\n",
       "\n",
       "  <script>\n",
       "    async function quickchart(key) {\n",
       "      const quickchartButtonEl =\n",
       "        document.querySelector('#' + key + ' button');\n",
       "      quickchartButtonEl.disabled = true;  // To prevent multiple clicks.\n",
       "      quickchartButtonEl.classList.add('colab-df-spinner');\n",
       "      try {\n",
       "        const charts = await google.colab.kernel.invokeFunction(\n",
       "            'suggestCharts', [key], {});\n",
       "      } catch (error) {\n",
       "        console.error('Error during call to suggestCharts:', error);\n",
       "      }\n",
       "      quickchartButtonEl.classList.remove('colab-df-spinner');\n",
       "      quickchartButtonEl.classList.add('colab-df-quickchart-complete');\n",
       "    }\n",
       "    (() => {\n",
       "      let quickchartButtonEl =\n",
       "        document.querySelector('#df-d586bc14-6bec-453f-b632-615f3b94951b button');\n",
       "      quickchartButtonEl.style.display =\n",
       "        google.colab.kernel.accessAllowed ? 'block' : 'none';\n",
       "    })();\n",
       "  </script>\n",
       "</div>\n",
       "\n",
       "    </div>\n",
       "  </div>\n"
      ],
      "text/plain": [
       "           Strain    Type  Rating                                     Effects  \\\n",
       "0          100-Og  hybrid     4.0  Creative,Energetic,Tingly,Euphoric,Relaxed   \n",
       "1  98-White-Widow  hybrid     4.7    Relaxed,Aroused,Creative,Happy,Energetic   \n",
       "2            1024  sativa     4.4   Uplifted,Happy,Relaxed,Energetic,Creative   \n",
       "3        13-Dawgs  hybrid     4.2     Tingly,Creative,Hungry,Relaxed,Uplifted   \n",
       "4        24K-Gold  hybrid     4.6   Happy,Relaxed,Euphoric,Uplifted,Talkative   \n",
       "\n",
       "                      Flavor  Creative  Energetic  Tingly  Euphoric  Relaxed  \\\n",
       "0        Earthy,Sweet,Citrus       1.0        1.0     1.0       1.0      1.0   \n",
       "1      Flowery,Violet,Diesel       1.0        1.0     0.0       0.0      1.0   \n",
       "2    Spicy/Herbal,Sage,Woody       1.0        1.0     0.0       0.0      1.0   \n",
       "3  Apricot,Citrus,Grapefruit       1.0        0.0     1.0       0.0      1.0   \n",
       "4       Citrus,Earthy,Orange       0.0        0.0     0.0       1.0      1.0   \n",
       "\n",
       "   ...  Ammonia  Minty  Tree  Fruit  Butter  Pineapple  Tar  Rose  Plum  Pear  \n",
       "0  ...      0.0    0.0   0.0    0.0     0.0        0.0  0.0   0.0   0.0   0.0  \n",
       "1  ...      0.0    0.0   0.0    0.0     0.0        0.0  0.0   0.0   0.0   0.0  \n",
       "2  ...      0.0    0.0   0.0    0.0     0.0        0.0  0.0   0.0   0.0   0.0  \n",
       "3  ...      0.0    0.0   0.0    0.0     0.0        0.0  0.0   0.0   0.0   0.0  \n",
       "4  ...      0.0    0.0   0.0    0.0     0.0        0.0  0.0   0.0   0.0   0.0  \n",
       "\n",
       "[5 rows x 69 columns]"
      ]
     },
     "execution_count": 5,
     "metadata": {},
     "output_type": "execute_result"
    }
   ],
   "source": [
    "df = pd.read_csv(\"/content/cannabis_full.csv\")\n",
    "df.dropna(inplace=True)\n",
    "df.head()"
   ]
  },
  {
   "cell_type": "code",
   "execution_count": 6,
   "metadata": {
    "id": "LrEXMTGYz8bO"
   },
   "outputs": [],
   "source": [
    "type1 = df[(df[\"Type\"] == \"sativa\") | (df[\"Type\"] == \"indica\")]"
   ]
  },
  {
   "cell_type": "markdown",
   "metadata": {
    "id": "Rwr5CPYBsVFY"
   },
   "source": [
    "###Q1: LDA"
   ]
  },
  {
   "cell_type": "code",
   "execution_count": 7,
   "metadata": {
    "id": "dIe5WUCnxhS9"
   },
   "outputs": [],
   "source": [
    "X = type1.drop(columns=[\"Type\", \"Strain\", \"Effects\", \"Flavor\"])\n",
    "y= type1[\"Type\"]\n",
    "X_train, X_test, y_train, y_test = train_test_split(X, y, test_size=0.2, random_state=42)\n",
    "\n",
    "\n",
    "ct = ColumnTransformer(\n",
    "  [\n",
    "    (\"dummify\",\n",
    "    OneHotEncoder(sparse_output = False, handle_unknown='ignore'),\n",
    "    make_column_selector(dtype_include=object))\n",
    "  ],\n",
    "  remainder = \"passthrough\"\n",
    ").set_output(transform = \"pandas\")\n"
   ]
  },
  {
   "cell_type": "code",
   "execution_count": 34,
   "metadata": {
    "colab": {
     "base_uri": "https://localhost:8080/",
     "height": 553
    },
    "id": "6rhNVrEGtVDL",
    "outputId": "ecad6ae2-50bf-4155-b96a-1ca1138c836c"
   },
   "outputs": [
    {
     "name": "stdout",
     "output_type": "stream",
     "text": [
      "Best params: {'lda__shrinkage': 0.5, 'lda__solver': 'lsqr'}\n",
      "Best score: 0.87703474372205\n",
      "Confusion Matrix for LDA:\n",
      "[[495  47]\n",
      " [ 50 262]]\n"
     ]
    },
    {
     "data": {
      "text/plain": [
       "<sklearn.metrics._plot.confusion_matrix.ConfusionMatrixDisplay at 0x77fd04efece0>"
      ]
     },
     "execution_count": 34,
     "metadata": {},
     "output_type": "execute_result"
    },
    {
     "data": {
      "image/png": "[encoded data removed]",
      "text/plain": [
       "<Figure size 640x480 with 2 Axes>"
      ]
     },
     "metadata": {},
     "output_type": "display_data"
    }
   ],
   "source": [
    "lda_pipe = Pipeline([\n",
    "    (\"ct\", ct),\n",
    "    (\"lda\", LinearDiscriminantAnalysis())\n",
    "])\n",
    "\n",
    "# Parameter grid\n",
    "paramgridlda = {\n",
    "    \"lda__solver\": [\"lsqr\"],\n",
    "    \"lda__shrinkage\": [None, 'auto',.5]\n",
    "}\n",
    "\n",
    "# GridSearchCV\n",
    "lda_grid = GridSearchCV(lda_pipe, param_grid=paramgridlda, cv=5, scoring=\"accuracy\",verbose=0, n_jobs=-1, error_score=\"raise\")\n",
    "lda_grid.fit(X_train, y_train)\n",
    "\n",
    "# Best parameters and score\n",
    "print(f\"Best params: {lda_grid.best_params_}\")\n",
    "print(f\"Best score: {lda_grid.best_score_}\")\n",
    "\n",
    "lda_final_model = lda_grid.best_estimator_\n",
    "y_pred_lda = lda_final_model.predict(X_train)\n",
    "conf_matrix_lda = confusion_matrix(y_train, y_pred_lda)\n",
    "ConfusionMatrixDisplay(conf_matrix_lda, display_labels=lda_final_model.classes_).plot()\n"
   ]
  },
  {
   "cell_type": "markdown",
   "metadata": {
    "id": "5yfh4YWDsdnp"
   },
   "source": [
    "###Q2: QDA"
   ]
  },
  {
   "cell_type": "code",
   "execution_count": 35,
   "metadata": {
    "colab": {
     "base_uri": "https://localhost:8080/",
     "height": 504
    },
    "id": "Dk6XKPbx2LM3",
    "outputId": "dc8a9f93-55d0-49e7-ac2a-af506755f188"
   },
   "outputs": [
    {
     "name": "stdout",
     "output_type": "stream",
     "text": [
      "Best QDA params: {'qda__reg_param': 0.1}\n",
      "Best QDA score: 0.8688682490540074\n"
     ]
    },
    {
     "data": {
      "text/plain": [
       "<sklearn.metrics._plot.confusion_matrix.ConfusionMatrixDisplay at 0x77fd3dd77820>"
      ]
     },
     "execution_count": 35,
     "metadata": {},
     "output_type": "execute_result"
    },
    {
     "data": {
      "image/png": "[encoded data removed]",
      "text/plain": [
       "<Figure size 640x480 with 2 Axes>"
      ]
     },
     "metadata": {},
     "output_type": "display_data"
    }
   ],
   "source": [
    "from sklearn.discriminant_analysis import QuadraticDiscriminantAnalysis\n",
    "\n",
    "# Pipeline for QDA\n",
    "qda_pipe = Pipeline([\n",
    "    (\"ct\", ct),  # Reuse ColumnTransformer from earlier\n",
    "    (\"qda\", QuadraticDiscriminantAnalysis())\n",
    "])\n",
    "\n",
    "# Parameter grid for QDA\n",
    "paramgridqda = {\n",
    "    \"qda__reg_param\": [0.0, 0.1, 0.5, 0.9]  # Regularization parameter\n",
    "}\n",
    "\n",
    "# GridSearchCV for QDA\n",
    "qda_grid = GridSearchCV(\n",
    "    qda_pipe,\n",
    "    param_grid=paramgridqda,\n",
    "    cv=5,\n",
    "    scoring=\"accuracy\",\n",
    "    n_jobs=-1,\n",
    "    error_score=\"raise\"\n",
    ")\n",
    "qda_grid.fit(X_train, y_train)\n",
    "\n",
    "# Best parameters and score\n",
    "print(f\"Best QDA params: {qda_grid.best_params_}\")\n",
    "print(f\"Best QDA score: {qda_grid.best_score_}\")\n",
    "\n",
    "qda_final_model = qda_grid.best_estimator_\n",
    "y_pred_qda = qda_final_model.predict(X_train)\n",
    "conf_matrix_qda = confusion_matrix(y_train, y_pred_qda)\n",
    "ConfusionMatrixDisplay(conf_matrix_qda, display_labels=qda_final_model.classes_).plot()"
   ]
  },
  {
   "cell_type": "markdown",
   "metadata": {
    "id": "ZTn8FOwgsgbt"
   },
   "source": [
    "###Q3: SVC"
   ]
  },
  {
   "cell_type": "code",
   "execution_count": 36,
   "metadata": {
    "colab": {
     "base_uri": "https://localhost:8080/",
     "height": 506
    },
    "id": "IBw1j8Ly8NBm",
    "outputId": "2c5bf361-7890-4517-9626-3406edf779cb"
   },
   "outputs": [
    {
     "name": "stdout",
     "output_type": "stream",
     "text": [
      "Best SVC params: {'svc__C': 0.1, 'svc__gamma': 'scale', 'svc__kernel': 'linear'}\n",
      "Best SVC cross-validated score: 0.8723495012039904\n"
     ]
    },
    {
     "data": {
      "text/plain": [
       "<sklearn.metrics._plot.confusion_matrix.ConfusionMatrixDisplay at 0x77fd04e8bf10>"
      ]
     },
     "execution_count": 36,
     "metadata": {},
     "output_type": "execute_result"
    },
    {
     "data": {
      "image/png": "[encoded data removed]",
      "text/plain": [
       "<Figure size 640x480 with 2 Axes>"
      ]
     },
     "metadata": {},
     "output_type": "display_data"
    }
   ],
   "source": [
    "from sklearn.svm import SVC\n",
    "\n",
    "# Pipeline for SVC\n",
    "svc_pipe = Pipeline([\n",
    "    (\"ct\", ct),  # Reuse ColumnTransformer from earlier\n",
    "    (\"svc\", SVC())\n",
    "])\n",
    "\n",
    "# Parameter grid for SVC\n",
    "paramgridsvc = {\n",
    "    \"svc__C\": [0.1, 1, 10],  # Regularization parameter\n",
    "    \"svc__kernel\": [\"linear\", \"rbf\"],  # Kernel types\n",
    "    \"svc__gamma\": [\"scale\", \"auto\"]  # Gamma options\n",
    "}\n",
    "\n",
    "# GridSearchCV for SVC\n",
    "svc_grid = GridSearchCV(\n",
    "    svc_pipe,\n",
    "    param_grid=paramgridsvc,\n",
    "    cv=5,\n",
    "    scoring=\"accuracy\",\n",
    "    n_jobs=-1,\n",
    "    error_score=\"raise\"\n",
    ")\n",
    "svc_grid.fit(X_train, y_train)\n",
    "\n",
    "# Best parameters and score\n",
    "print(f\"Best SVC params: {svc_grid.best_params_}\")\n",
    "print(f\"Best SVC cross-validated score: {svc_grid.best_score_}\")\n",
    "\n",
    "# Final model fitting and confusion matrix\n",
    "svc_final_model = svc_grid.best_estimator_\n",
    "y_pred_svc = svc_final_model.predict(X_train)\n",
    "conf_matrix_svc = confusion_matrix(y_train, y_pred_svc)\n",
    "ConfusionMatrixDisplay(conf_matrix_svc, display_labels=svc_final_model.classes_).plot()"
   ]
  },
  {
   "cell_type": "markdown",
   "metadata": {
    "id": "1JGjbzpSsjXl"
   },
   "source": [
    "###Q4: SVM"
   ]
  },
  {
   "cell_type": "code",
   "execution_count": 37,
   "metadata": {
    "colab": {
     "base_uri": "https://localhost:8080/",
     "height": 504
    },
    "id": "Vk2My6F78kc0",
    "outputId": "552e883c-a7e8-4fbb-dce2-4a89c7edd3f9"
   },
   "outputs": [
    {
     "name": "stdout",
     "output_type": "stream",
     "text": [
      "Best SVM params: {'svm__C': 1, 'svm__degree': 4, 'svm__gamma': 'scale'}\n",
      "Best SVM cross-validated score: 0.866501547987616\n"
     ]
    },
    {
     "data": {
      "text/plain": [
       "<sklearn.metrics._plot.confusion_matrix.ConfusionMatrixDisplay at 0x77fd035c2140>"
      ]
     },
     "execution_count": 37,
     "metadata": {},
     "output_type": "execute_result"
    },
    {
     "data": {
      "image/png": "[encoded data removed]",
      "text/plain": [
       "<Figure size 640x480 with 2 Axes>"
      ]
     },
     "metadata": {},
     "output_type": "display_data"
    }
   ],
   "source": [
    "# Pipeline for SVM with polynomial kernel\n",
    "svm_pipe = Pipeline([\n",
    "    (\"ct\", ct),  # Reuse ColumnTransformer from earlier\n",
    "    (\"svm\", SVC(kernel=\"poly\"))  # Use polynomial kernel\n",
    "])\n",
    "\n",
    "# Parameter grid for SVM with polynomial kernel\n",
    "paramgridsvm = {\n",
    "    \"svm__C\": [0.1, 1, 10],  # Regularization parameter\n",
    "    \"svm__degree\": [2, 3, 4],  # Polynomial degree\n",
    "    \"svm__gamma\": [\"scale\", \"auto\"]  # Gamma options\n",
    "}\n",
    "\n",
    "# GridSearchCV for SVM\n",
    "svm_grid = GridSearchCV(\n",
    "    svm_pipe,\n",
    "    param_grid=paramgridsvm,\n",
    "    cv=5,\n",
    "    scoring=\"accuracy\",\n",
    "    n_jobs=-1,\n",
    "    error_score=\"raise\"\n",
    ")\n",
    "svm_grid.fit(X_train, y_train)\n",
    "\n",
    "# Best parameters and score\n",
    "print(f\"Best SVM params: {svm_grid.best_params_}\")\n",
    "print(f\"Best SVM cross-validated score: {svm_grid.best_score_}\")\n",
    "\n",
    "# Final model fitting and confusion matrix\n",
    "svm_final_model = svm_grid.best_estimator_\n",
    "y_pred_svm = svm_final_model.predict(X_train)\n",
    "conf_matrix_svm = confusion_matrix(y_train, y_pred_svm)\n",
    "ConfusionMatrixDisplay(conf_matrix_svm, display_labels=svm_final_model.classes_).plot()"
   ]
  },
  {
   "cell_type": "markdown",
   "metadata": {
    "id": "OvGOzhkrsmBL"
   },
   "source": [
    "##Part Two: Natural Multiclass\n",
    "Now use the full dataset, including the Hybrid strains."
   ]
  },
  {
   "cell_type": "code",
   "execution_count": 12,
   "metadata": {
    "id": "k3iGzneJE8fF"
   },
   "outputs": [],
   "source": [
    "X1= df.drop(columns=[\"Type\", \"Strain\", \"Effects\", \"Flavor\"])\n",
    "y1= df[\"Type\"]\n",
    "X1_train, X1_test, y1_train, y1_test = train_test_split(X1, y1, test_size=0.2, random_state=42)"
   ]
  },
  {
   "cell_type": "markdown",
   "metadata": {
    "id": "CA4FH1mNsozs"
   },
   "source": [
    "###Q1\n",
    "Fit a decision tree, plot the final fit, and interpret the results."
   ]
  },
  {
   "cell_type": "code",
   "execution_count": 17,
   "metadata": {
    "colab": {
     "base_uri": "https://localhost:8080/",
     "height": 688
    },
    "id": "k8XK31HcDEUy",
    "outputId": "27fcb45c-2016-46bc-807c-5eef2712bdf7"
   },
   "outputs": [
    {
     "data": {
      "image/png": "[encoded data removed]",
      "text/plain": [
       "<Figure size 1200x800 with 1 Axes>"
      ]
     },
     "metadata": {},
     "output_type": "display_data"
    },
    {
     "name": "stdout",
     "output_type": "stream",
     "text": [
      "Best Parameters: {'max_depth': 3, 'min_samples_leaf': 4, 'min_samples_split': 2}\n",
      "Test Accuracy: 0.6104783599088838\n"
     ]
    }
   ],
   "source": [
    "from sklearn.tree import DecisionTreeClassifier, plot_tree\n",
    "from sklearn.model_selection import GridSearchCV\n",
    "#tune decision tree\n",
    "param_grid = {\n",
    "    \"max_depth\": [3, 5, 10, None],\n",
    "    \"min_samples_split\": [2, 5, 10],\n",
    "    \"min_samples_leaf\": [1, 2, 4]\n",
    "}\n",
    "grid_searchdt = GridSearchCV(DecisionTreeClassifier(random_state=42), param_grid, cv=5, scoring=\"accuracy\")\n",
    "grid_searchdt.fit(X1_train, y1_train)\n",
    "\n",
    "#fit the best model\n",
    "besttree = grid_searchdt.best_estimator_\n",
    "besttree.fit(X1_train, y1_train)\n",
    "\n",
    "#plot the tree\n",
    "plt.figure(figsize=(12, 8))\n",
    "plot_tree(besttree, feature_names=X.columns, class_names=besttree.classes_, filled=True)\n",
    "plt.show()\n",
    "\n",
    "#print best parameters and accuracy\n",
    "print(\"Best Parameters:\", grid_searchdt.best_params_)\n",
    "print(\"Test Accuracy:\", besttree.score(X1_test, y1_test))"
   ]
  },
  {
   "cell_type": "markdown",
   "metadata": {
    "id": "6cMEFfMosrl7"
   },
   "source": [
    "###Q2\n",
    "Repeat the analyses from Part One for LDA, QDA, and KNN."
   ]
  },
  {
   "cell_type": "code",
   "execution_count": 38,
   "metadata": {
    "colab": {
     "base_uri": "https://localhost:8080/",
     "height": 501
    },
    "id": "WtRUOcKk-Tqu",
    "outputId": "132087ac-b369-4fe5-80de-b0dc59727b99"
   },
   "outputs": [
    {
     "name": "stdout",
     "output_type": "stream",
     "text": [
      "Best LDA params: {'lda__shrinkage': 'auto', 'lda__solver': 'lsqr'}\n",
      "Best LDA cross-validated score: 0.6347415547415547\n"
     ]
    },
    {
     "data": {
      "text/plain": [
       "<sklearn.metrics._plot.confusion_matrix.ConfusionMatrixDisplay at 0x77fcf870e860>"
      ]
     },
     "execution_count": 38,
     "metadata": {},
     "output_type": "execute_result"
    },
    {
     "data": {
      "image/png": "[encoded data removed]",
      "text/plain": [
       "<Figure size 640x480 with 2 Axes>"
      ]
     },
     "metadata": {},
     "output_type": "display_data"
    }
   ],
   "source": [
    "from sklearn.discriminant_analysis import LinearDiscriminantAnalysis\n",
    "from sklearn.model_selection import GridSearchCV\n",
    "from sklearn.metrics import confusion_matrix\n",
    "\n",
    "# Pipeline for LDA\n",
    "lda_pipe = Pipeline([\n",
    "    (\"ct\", ct),\n",
    "    (\"lda\", LinearDiscriminantAnalysis())\n",
    "])\n",
    "\n",
    "# Parameter grid for LDA\n",
    "paramgridlda = {\n",
    "    \"lda__solver\": [\"lsqr\"],\n",
    "    \"lda__shrinkage\": [None, \"auto\", 0.5]\n",
    "}\n",
    "\n",
    "# GridSearchCV for LDA\n",
    "lda_grid = GridSearchCV(\n",
    "    lda_pipe,\n",
    "    param_grid=paramgridlda,\n",
    "    cv=5,\n",
    "    scoring=\"accuracy\",\n",
    "    n_jobs=-1,\n",
    "    error_score=\"raise\"\n",
    ")\n",
    "lda_grid.fit(X1_train, y1_train)\n",
    "\n",
    "# Best parameters and score\n",
    "print(f\"Best LDA params: {lda_grid.best_params_}\")\n",
    "print(f\"Best LDA cross-validated score: {lda_grid.best_score_}\")\n",
    "\n",
    "# Final model fitting and confusion matrix\n",
    "lda_final_model = lda_grid.best_estimator_\n",
    "y1_pred_lda = lda_final_model.predict(X1_train)\n",
    "conf_matrix_lda = confusion_matrix(y1_train, y1_pred_lda)\n",
    "ConfusionMatrixDisplay(conf_matrix_lda, display_labels=lda_final_model.classes_).plot()"
   ]
  },
  {
   "cell_type": "code",
   "execution_count": 39,
   "metadata": {
    "colab": {
     "base_uri": "https://localhost:8080/",
     "height": 505
    },
    "id": "0uMlygyb-Tdk",
    "outputId": "eaab8ce5-ac02-4af3-a9fb-1e1f4c0d48c1"
   },
   "outputs": [
    {
     "name": "stdout",
     "output_type": "stream",
     "text": [
      "Best QDA params: {'qda__reg_param': 0.3}\n",
      "Best QDA cross-validated score: 0.6347203907203908\n"
     ]
    },
    {
     "data": {
      "text/plain": [
       "<sklearn.metrics._plot.confusion_matrix.ConfusionMatrixDisplay at 0x77fcf86add50>"
      ]
     },
     "execution_count": 39,
     "metadata": {},
     "output_type": "execute_result"
    },
    {
     "data": {
      "image/png": "[encoded data removed]",
      "text/plain": [
       "<Figure size 640x480 with 2 Axes>"
      ]
     },
     "metadata": {},
     "output_type": "display_data"
    }
   ],
   "source": [
    "from sklearn.discriminant_analysis import QuadraticDiscriminantAnalysis\n",
    "\n",
    "# Pipeline for QDA\n",
    "qda_pipe = Pipeline([\n",
    "    (\"ct\", ct),\n",
    "    (\"qda\", QuadraticDiscriminantAnalysis())\n",
    "])\n",
    "\n",
    "# Parameter grid for QDA\n",
    "paramgridqda = {\n",
    "    \"qda__reg_param\": [0.0, 0.1,.2,.3,.4, 0.5,.6,.7,.8, 0.9]  # Regularization parameter\n",
    "}\n",
    "\n",
    "# GridSearchCV for QDA\n",
    "qda_grid = GridSearchCV(\n",
    "    qda_pipe,\n",
    "    param_grid=paramgridqda,\n",
    "    cv=5,\n",
    "    scoring=\"accuracy\",\n",
    "    n_jobs=-1,\n",
    "    error_score=\"raise\"\n",
    ")\n",
    "qda_grid.fit(X1_train, y1_train)\n",
    "\n",
    "# Best parameters and score\n",
    "print(f\"Best QDA params: {qda_grid.best_params_}\")\n",
    "print(f\"Best QDA cross-validated score: {qda_grid.best_score_}\")\n",
    "\n",
    "# Final model fitting and confusion matrix\n",
    "qda_final_model = qda_grid.best_estimator_\n",
    "y_pred_qda1 = qda_final_model.predict(X1_train)\n",
    "conf_matrix_qda = confusion_matrix(y1_train, y_pred_qda1)\n",
    "ConfusionMatrixDisplay(conf_matrix_qda, display_labels=qda_final_model.classes_).plot()"
   ]
  },
  {
   "cell_type": "code",
   "execution_count": 40,
   "metadata": {
    "colab": {
     "base_uri": "https://localhost:8080/",
     "height": 501
    },
    "id": "cHKI6feS-TMz",
    "outputId": "bf5b77b1-cf61-41b2-b85f-d3a94012acc2"
   },
   "outputs": [
    {
     "name": "stdout",
     "output_type": "stream",
     "text": [
      "Best KNN params: {'knn__n_neighbors': 10, 'knn__weights': 'uniform'}\n",
      "Best KNN cross-validated score: 0.5885079365079365\n"
     ]
    },
    {
     "data": {
      "text/plain": [
       "<sklearn.metrics._plot.confusion_matrix.ConfusionMatrixDisplay at 0x77fd05308f10>"
      ]
     },
     "execution_count": 40,
     "metadata": {},
     "output_type": "execute_result"
    },
    {
     "data": {
      "image/png": "[encoded data removed]",
      "text/plain": [
       "<Figure size 640x480 with 2 Axes>"
      ]
     },
     "metadata": {},
     "output_type": "display_data"
    }
   ],
   "source": [
    "from sklearn.neighbors import KNeighborsClassifier\n",
    "\n",
    "# Pipeline for KNN\n",
    "knn_pipe = Pipeline([\n",
    "    (\"ct\", ct),\n",
    "    (\"knn\", KNeighborsClassifier())\n",
    "])\n",
    "\n",
    "# Parameter grid for KNN\n",
    "paramgridknn = {\n",
    "    \"knn__n_neighbors\": [3, 5, 7, 10],\n",
    "    \"knn__weights\": [\"uniform\", \"distance\"]\n",
    "}\n",
    "\n",
    "# GridSearchCV for KNN\n",
    "knn_grid = GridSearchCV(\n",
    "    knn_pipe,\n",
    "    param_grid=paramgridknn,\n",
    "    cv=5,\n",
    "    scoring=\"accuracy\",\n",
    "    n_jobs=-1,\n",
    "    error_score=\"raise\"\n",
    ")\n",
    "knn_grid.fit(X1_train, y1_train)\n",
    "\n",
    "# Best parameters and score\n",
    "print(f\"Best KNN params: {knn_grid.best_params_}\")\n",
    "print(f\"Best KNN cross-validated score: {knn_grid.best_score_}\")\n",
    "\n",
    "# Final model fitting and confusion matrix\n",
    "knn_final_model = knn_grid.best_estimator_\n",
    "y_pred_knn1 = knn_final_model.predict(X1_train)\n",
    "conf_matrix_knn = confusion_matrix(y1_train, y_pred_knn1)\n",
    "ConfusionMatrixDisplay(conf_matrix_knn, display_labels=knn_final_model.classes_).plot()"
   ]
  },
  {
   "cell_type": "markdown",
   "metadata": {
    "id": "crhg4i2Nsvyb"
   },
   "source": [
    "###Q3\n",
    "Were your metrics better or worse than in Part One? Why? Which categories were most likely to get mixed up, according to the confusion matrices? Why?"
   ]
  },
  {
   "cell_type": "markdown",
   "metadata": {
    "id": "epEHh5WIGRm_"
   },
   "source": [
    "My answers in part one were better than my answers in part 2 based off of accuracy. This makes sense because instead of having only one possible wrong answer there is now two. Additionally, the concept of a hybrid is that is has both indica and sativa traits so it makes sense that is what is most likely to get wrong/mixed up. You can see that it did the best at predicting the hybrids but not too great of a job guessing the sativa and indica."
   ]
  },
  {
   "cell_type": "markdown",
   "metadata": {
    "id": "l0Qv2JQ6syun"
   },
   "source": [
    "##Part Three: Multiclass from Binary\n",
    "Consider two models designed for binary classification: SVC and Logistic Regression."
   ]
  },
  {
   "cell_type": "markdown",
   "metadata": {
    "id": "P2ypPmf6s2MZ"
   },
   "source": [
    "###Q1\n",
    "Fit and report metrics for OvR versions of the models. That is, for each of the two model types, create three models:\n",
    "\n",
    "Indica vs. Not Indica\n",
    "\n",
    "Sativa vs. Not Sativa\n",
    "\n",
    "Hybrid vs. Not Hybrid"
   ]
  },
  {
   "cell_type": "code",
   "execution_count": 21,
   "metadata": {
    "colab": {
     "base_uri": "https://localhost:8080/"
    },
    "id": "dJvgR1ftHEDR",
    "outputId": "e7b5bbc2-ae4d-4479-ed43-8f1609554a6d"
   },
   "outputs": [
    {
     "name": "stdout",
     "output_type": "stream",
     "text": [
      "Metrics for SVC: indica vs. Not indica\n",
      "              precision    recall  f1-score   support\n",
      "\n",
      "           0       0.86      0.86      0.86       307\n",
      "           1       0.67      0.67      0.67       132\n",
      "\n",
      "    accuracy                           0.80       439\n",
      "   macro avg       0.76      0.77      0.76       439\n",
      "weighted avg       0.80      0.80      0.80       439\n",
      "\n",
      "Metrics for SVC: sativa vs. Not sativa\n",
      "              precision    recall  f1-score   support\n",
      "\n",
      "           0       0.81      1.00      0.90       357\n",
      "           1       0.00      0.00      0.00        82\n",
      "\n",
      "    accuracy                           0.81       439\n",
      "   macro avg       0.41      0.50      0.45       439\n",
      "weighted avg       0.66      0.81      0.73       439\n",
      "\n",
      "Metrics for SVC: hybrid vs. Not hybrid\n",
      "              precision    recall  f1-score   support\n",
      "\n",
      "           0       0.69      0.46      0.55       214\n",
      "           1       0.61      0.80      0.69       225\n",
      "\n",
      "    accuracy                           0.64       439\n",
      "   macro avg       0.65      0.63      0.62       439\n",
      "weighted avg       0.65      0.64      0.63       439\n",
      "\n"
     ]
    }
   ],
   "source": [
    "#predictors and target\n",
    "X2 = df.drop(columns=[\"Type\", \"Strain\", \"Effects\", \"Flavor\"])\n",
    "y2 = df[\"Type\"]\n",
    "class_labels = [\"indica\", \"sativa\", \"hybrid\"]\n",
    "\n",
    "#loop for svc\n",
    "for label in class_labels:\n",
    "    #binary target for the class to loop\n",
    "    y2_binary = np.where(y2 == label, 1, 0)\n",
    "    X2_train, X2_test, y2_train, y2_test = train_test_split(X2, y2_binary, test_size=0.2, stratify=y2_binary, random_state=42)\n",
    "\n",
    "    #train svc\n",
    "    svc = SVC(probability=True, random_state=1)\n",
    "    svc.fit(X2_train, y2_train)\n",
    "\n",
    "    #evaluate\n",
    "    y2_pred = svc.predict(X2_test)\n",
    "    print(f\"Metrics for SVC: {label} vs. Not {label}\")\n",
    "    print(classification_report(y2_test, y2_pred))"
   ]
  },
  {
   "cell_type": "code",
   "execution_count": 22,
   "metadata": {
    "colab": {
     "base_uri": "https://localhost:8080/"
    },
    "id": "gHwyBFFXIPwY",
    "outputId": "d263d951-35c6-4842-d1f7-cffaf22c4710"
   },
   "outputs": [
    {
     "name": "stdout",
     "output_type": "stream",
     "text": [
      "Metrics for Logistic Regression: indica vs. Not indica\n",
      "              precision    recall  f1-score   support\n",
      "\n",
      "           0       0.87      0.91      0.89       307\n",
      "           1       0.76      0.68      0.72       132\n",
      "\n",
      "    accuracy                           0.84       439\n",
      "   macro avg       0.81      0.79      0.80       439\n",
      "weighted avg       0.83      0.84      0.84       439\n",
      "\n",
      "Metrics for Logistic Regression: sativa vs. Not sativa\n",
      "              precision    recall  f1-score   support\n",
      "\n",
      "           0       0.84      0.92      0.88       357\n",
      "           1       0.40      0.23      0.29        82\n",
      "\n",
      "    accuracy                           0.79       439\n",
      "   macro avg       0.62      0.58      0.59       439\n",
      "weighted avg       0.76      0.79      0.77       439\n",
      "\n",
      "Metrics for Logistic Regression: hybrid vs. Not hybrid\n",
      "              precision    recall  f1-score   support\n",
      "\n",
      "           0       0.69      0.60      0.64       214\n",
      "           1       0.66      0.74      0.70       225\n",
      "\n",
      "    accuracy                           0.67       439\n",
      "   macro avg       0.68      0.67      0.67       439\n",
      "weighted avg       0.68      0.67      0.67       439\n",
      "\n"
     ]
    }
   ],
   "source": [
    "#for logr\n",
    "\n",
    "#loop for ovr\n",
    "for label in class_labels:\n",
    "    #binary target for the class to loop\n",
    "    y2_binary = np.where(y2 == label, 1, 0)\n",
    "    X2_train, X2_test, y2_train, y2_test = train_test_split(X2, y2_binary, test_size=0.2, stratify=y2_binary, random_state=42)\n",
    "\n",
    "    #train logistic model\n",
    "    lr = LogisticRegression(random_state=1)\n",
    "    lr.fit(X2_train, y2_train)\n",
    "\n",
    "    #evaluate\n",
    "    y3_pred = lr.predict(X2_test)\n",
    "    print(f\"Metrics for Logistic Regression: {label} vs. Not {label}\")\n",
    "    print(classification_report(y2_test, y3_pred))"
   ]
  },
  {
   "cell_type": "markdown",
   "metadata": {
    "id": "gbpj5rdDs6d_"
   },
   "source": [
    "###Q2\n",
    "Which of the six models did the best job distinguishing the target category from the rest? Which did the worst? Does this make intuitive sense?"
   ]
  },
  {
   "cell_type": "markdown",
   "metadata": {
    "id": "_DZQlkuOHXBX"
   },
   "source": [
    "Looking at the accuracy score average for all three binarys my logistic model did better at accuratly predicting each strain type overally. The model that worked the best was logistic predicting sativa strains. Adn logistic regression did the best at predicting sativa and hybrid. However overall hyrbid had the lowest accuracy score between both models, this makes sense because it has traits of both strain so can easily be confused with either."
   ]
  },
  {
   "cell_type": "markdown",
   "metadata": {
    "id": "_3-uzQfhs9Z1"
   },
   "source": [
    "###Q3\n",
    "Fit and report metrics for OvO versions of the models. That is, for each of the two model types, create three models:\n",
    "\n",
    "Indica vs. Sativa\n",
    "\n",
    "Indica vs. Hybrid\n",
    "\n",
    "Hybrid vs. Sativa"
   ]
  },
  {
   "cell_type": "code",
   "execution_count": 27,
   "metadata": {
    "colab": {
     "base_uri": "https://localhost:8080/"
    },
    "id": "aUGLWubpHY-5",
    "outputId": "d5bc96bb-5355-4e8e-cc02-bcdd0ab6115a"
   },
   "outputs": [
    {
     "name": "stdout",
     "output_type": "stream",
     "text": [
      "Metrics for SVC: indica vs. sativa\n",
      "              precision    recall  f1-score   support\n",
      "\n",
      "           0       0.85      0.85      0.85        82\n",
      "           1       0.91      0.91      0.91       132\n",
      "\n",
      "    accuracy                           0.89       214\n",
      "   macro avg       0.88      0.88      0.88       214\n",
      "weighted avg       0.89      0.89      0.89       214\n",
      "\n",
      "Metrics for SVC: indica vs. hybrid\n",
      "              precision    recall  f1-score   support\n",
      "\n",
      "           0       0.80      0.77      0.78       225\n",
      "           1       0.63      0.67      0.65       132\n",
      "\n",
      "    accuracy                           0.73       357\n",
      "   macro avg       0.71      0.72      0.71       357\n",
      "weighted avg       0.73      0.73      0.73       357\n",
      "\n",
      "Metrics for SVC: hybrid vs. sativa\n",
      "              precision    recall  f1-score   support\n",
      "\n",
      "           0       0.67      0.27      0.38        82\n",
      "           1       0.78      0.95      0.86       225\n",
      "\n",
      "    accuracy                           0.77       307\n",
      "   macro avg       0.72      0.61      0.62       307\n",
      "weighted avg       0.75      0.77      0.73       307\n",
      "\n"
     ]
    }
   ],
   "source": [
    "from sklearn.linear_model import LogisticRegression\n",
    "from sklearn.svm import SVC\n",
    "from sklearn.model_selection import cross_val_score\n",
    "from sklearn.multiclass import OneVsOneClassifier\n",
    "from sklearn.metrics import classification_report, accuracy_score\n",
    "import pandas as pd\n",
    "\n",
    "# Predictors and target\n",
    "X2 = df.drop(columns=[\"Type\", \"Strain\", \"Effects\", \"Flavor\"])\n",
    "y2 = df[\"Type\"]\n",
    "\n",
    "# Define OvO class pairs\n",
    "ovo_pairs = [(\"indica\", \"sativa\"), (\"indica\", \"hybrid\"), (\"hybrid\", \"sativa\")]\n",
    "\n",
    "# Loop through class pairs for SVC\n",
    "for pair in ovo_pairs:\n",
    "    # Filter data for the current pair\n",
    "    pair_mask = y2.isin(pair)\n",
    "    X2_pair = X2[pair_mask]\n",
    "    y2_pair = y2[pair_mask]\n",
    "\n",
    "    # Encode binary target for the current pair\n",
    "    y2_binary = np.where(y2_pair == pair[0], 1, 0)  # 1 for the first class, 0 for the second\n",
    "\n",
    "    # Train-test split\n",
    "    X2_train, X2_test, y2_train, y2_test = train_test_split(\n",
    "        X2_pair, y2_binary, test_size=0.2, stratify=y2_binary, random_state=42\n",
    "    )\n",
    "\n",
    "    # Train SVC\n",
    "    svc = SVC(probability=True, kernel=\"linear\", random_state=1)\n",
    "    svc.fit(X2_train, y2_train)\n",
    "\n",
    "    # Evaluate\n",
    "    y2_pred = svc.predict(X2_test)\n",
    "    print(f\"Metrics for SVC: {pair[0]} vs. {pair[1]}\")\n",
    "    print(classification_report(y2_test, y2_pred))\n"
   ]
  },
  {
   "cell_type": "code",
   "execution_count": 29,
   "metadata": {
    "colab": {
     "base_uri": "https://localhost:8080/"
    },
    "id": "72QwAurPxBeC",
    "outputId": "ad05454f-da4f-45da-90f0-d415b26a6edb"
   },
   "outputs": [
    {
     "name": "stdout",
     "output_type": "stream",
     "text": [
      "Metrics for Logistic Regression: indica vs. sativa\n",
      "              precision    recall  f1-score   support\n",
      "\n",
      "           0       0.87      0.84      0.86        82\n",
      "           1       0.90      0.92      0.91       132\n",
      "\n",
      "    accuracy                           0.89       214\n",
      "   macro avg       0.89      0.88      0.89       214\n",
      "weighted avg       0.89      0.89      0.89       214\n",
      "\n",
      "Metrics for Logistic Regression: indica vs. hybrid\n",
      "              precision    recall  f1-score   support\n",
      "\n",
      "           0       0.80      0.81      0.80       225\n",
      "           1       0.67      0.64      0.66       132\n",
      "\n",
      "    accuracy                           0.75       357\n",
      "   macro avg       0.73      0.73      0.73       357\n",
      "weighted avg       0.75      0.75      0.75       357\n",
      "\n",
      "Metrics for Logistic Regression: hybrid vs. sativa\n",
      "              precision    recall  f1-score   support\n",
      "\n",
      "           0       0.62      0.38      0.47        82\n",
      "           1       0.80      0.92      0.85       225\n",
      "\n",
      "    accuracy                           0.77       307\n",
      "   macro avg       0.71      0.65      0.66       307\n",
      "weighted avg       0.75      0.77      0.75       307\n",
      "\n"
     ]
    }
   ],
   "source": [
    "#for logr\n",
    "# Predictors and target\n",
    "X2 = df.drop(columns=[\"Type\", \"Strain\", \"Effects\", \"Flavor\"])\n",
    "y2 = df[\"Type\"]\n",
    "\n",
    "# Define OvO class pairs\n",
    "ovo_pairs = [(\"indica\", \"sativa\"), (\"indica\", \"hybrid\"), (\"hybrid\", \"sativa\")]\n",
    "\n",
    "#for logistic\n",
    "for pair in ovo_pairs:\n",
    "    # Filter data for the current pair\n",
    "    pair_mask = y2.isin(pair)\n",
    "    X2_pair = X2[pair_mask]\n",
    "    y2_pair = y2[pair_mask]\n",
    "\n",
    "    # Encode binary target for the current pair\n",
    "    y2_binary = np.where(y2_pair == pair[0], 1, 0)  # 1 for the first class, 0 for the second\n",
    "\n",
    "    # Train-test split\n",
    "    X2_train, X2_test, y2_train, y2_test = train_test_split(\n",
    "        X2_pair, y2_binary, test_size=0.2, stratify=y2_binary, random_state=42\n",
    "    )\n",
    "\n",
    "    # Train Logistic Regression\n",
    "    logreg = LogisticRegression(max_iter=1000, random_state=1)\n",
    "    logreg.fit(X2_train, y2_train)\n",
    "\n",
    "    # Evaluate\n",
    "    y2_pred = logreg.predict(X2_test)\n",
    "    print(f\"Metrics for Logistic Regression: {pair[0]} vs. {pair[1]}\")\n",
    "    print(classification_report(y2_test, y2_pred))\n"
   ]
  },
  {
   "cell_type": "markdown",
   "metadata": {
    "id": "p254S6ultAPK"
   },
   "source": [
    "###Q4\n",
    "Which of the six models did the best job distinguishing at differentiating the two groups? Which did the worst? Does this make intuitive sense?"
   ]
  },
  {
   "cell_type": "markdown",
   "metadata": {
    "id": "ybAo0jRVpm2i"
   },
   "source": [
    "The best model is the logistic regression model for identifing sativa vs indica. Although it has matching accuracy scores with the svc model, a logicistic model is more interpretable thus a better model.\n",
    "The model that did the worst is the svc model at predicitng indica vs hyrbid. Although it isn't supprising that the model that did the worst was against hyrbid but I would have thought it would be sativa vs hybrid. Because my past models often mixed up these strains the most."
   ]
  },
  {
   "cell_type": "markdown",
   "metadata": {
    "id": "LdhGOjGRtDKJ"
   },
   "source": [
    "###Q5\n",
    "Suppose you had simply input the full data, with three classes, into the LogisticRegression function. Would this have automatically taken an “OvO” approach or an “OvR” approach?\n",
    "\n",
    "What about for SVC?"
   ]
  },
  {
   "cell_type": "markdown",
   "metadata": {
    "id": "-akb44gyuDPJ"
   },
   "source": [
    "chat helped me understand the sklearn documentation.\n",
    "Logistic regression defaults to OvR: Logistic regression does not inherently work with multiple classes in its traditional form, and OvR offers a simple and scalable extension to multi-class problems. Multinomial logistic regression requires additional solver compatibility, as it involves a more complex optimization.\n",
    "\n",
    "\n",
    "SVC defaults to OvO: OvO is preferred for SVMs because training SVMs on binary subproblems is computationally efficient and results in simpler models compared to OvR. Each pairwise classifier only deals with two classes, leading to faster training times on small datasets and reduced memory usage.\n",
    "\n"
   ]
  }
 ],
 "metadata": {
  "colab": {
   "provenance": []
  },
  "kernelspec": {
   "display_name": "Python 3",
   "name": "python3"
  },
  "language_info": {
   "name": "python"
  }
 },
 "nbformat": 4,
 "nbformat_minor": 0
}
