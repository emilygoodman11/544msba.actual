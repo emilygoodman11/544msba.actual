{
 "cells": [
  {
   "cell_type": "raw",
   "metadata": {
    "vscode": {
     "languageId": "raw"
    }
   },
   "source": [
    "---\n",
    "Title: Lab_7\n",
    "author: Emily_Goodman\n",
    "format: \n",
    "  html:\n",
    "    code-fold: True\n",
    "    theme: flatly\n",
    "embed-resources: true\n",
    "---"
   ]
  },
  {
   "cell_type": "markdown",
   "metadata": {
    "id": "ddhrlTul5l50"
   },
   "source": [
    "#Lab 7: Heart Attack"
   ]
  },
  {
   "cell_type": "code",
   "execution_count": 1,
   "metadata": {
    "id": "A_eEDLBj5ORy"
   },
   "outputs": [],
   "source": [
    "import pandas as pd\n",
    "from sklearn.pipeline import Pipeline\n",
    "from sklearn.neighbors import KNeighborsClassifier\n",
    "from sklearn.tree import DecisionTreeClassifier\n",
    "from sklearn.linear_model import LogisticRegression\n",
    "from sklearn.preprocessing import OneHotEncoder, StandardScaler\n",
    "from sklearn.compose import ColumnTransformer, make_column_selector\n",
    "import numpy as np\n",
    "from sklearn.linear_model import LinearRegression\n",
    "from sklearn.model_selection import train_test_split\n",
    "from sklearn.metrics import r2_score\n",
    "from sklearn.model_selection import cross_val_score\n",
    "from sklearn.metrics import mean_squared_error\n",
    "from sklearn.model_selection import GridSearchCV\n",
    "from sklearn.neighbors import KNeighborsRegressor\n",
    "from sklearn.tree import DecisionTreeRegressor\n",
    "from sklearn.metrics import confusion_matrix\n",
    "from sklearn.metrics import accuracy_score, precision_score, recall_score, f1_score, roc_auc_score\n",
    "from sklearn.metrics import  r2_score, classification_report, roc_curve\n",
    "from sklearn.model_selection import GridSearchCV\n",
    "from sklearn.ensemble import RandomForestClassifier\n",
    "import warnings\n",
    "warnings.filterwarnings('ignore')\n",
    "from sklearn.ensemble import RandomForestRegressor\n",
    "from sklearn.feature_selection import SelectFromModel\n"
   ]
  },
  {
   "cell_type": "code",
   "execution_count": 2,
   "metadata": {
    "id": "7TckgQUP7n1G"
   },
   "outputs": [],
   "source": [
    "ha = pd.read_csv(\"https://www.dropbox.com/s/aohbr6yb9ifmc8w/heart_attack.csv?dl=1\")"
   ]
  },
  {
   "cell_type": "code",
   "execution_count": 3,
   "metadata": {
    "id": "OTtjXeke8PVH"
   },
   "outputs": [],
   "source": [
    "good_cols = ha.isna().sum() < 100\n",
    "ha = ha.loc[:,good_cols]\n",
    "\n",
    "# Drop other NAs\n",
    "ha = ha.dropna()"
   ]
  },
  {
   "cell_type": "markdown",
   "metadata": {
    "id": "DGSTamba5v4i"
   },
   "source": [
    "##Part One: Fitting Models\n",
    "This section asks you to create a final best model for each of the model types studied this week. For each, you should:\n",
    "\n",
    "Find the best model based on ROC AUC for predicting the target variable.\n",
    "\n",
    "Report the (cross-validated!) ROC AUC metric.\n",
    "\n",
    "Fit the final model.\n",
    "\n",
    "Output a confusion matrix; that is, the counts of how many observations fell into each predicted class for each true class.\n",
    "\n",
    "(Where applicable) Interpret the coefficients and/or estimates produced by the model fit.\n",
    "\n",
    "You should certainly try multiple model pipelines to find the best model. You do not need to include the output for every attempted model, but you should describe all of the models explored. You should include any hyperparameter tuning steps in your writeup as well."
   ]
  },
  {
   "cell_type": "code",
   "execution_count": 4,
   "metadata": {
    "id": "Nu8u9vly-BqY"
   },
   "outputs": [],
   "source": [
    "X = ha.drop([\"output\"], axis = 1)\n",
    "y = ha[\"output\"]\n",
    "\n",
    "ct = ColumnTransformer(\n",
    "  [\n",
    "    (\"dummify\",\n",
    "    OneHotEncoder(sparse_output = False, handle_unknown='ignore'),\n",
    "    make_column_selector(dtype_include=object)),\n",
    "    (\"standardize\",\n",
    "    StandardScaler(),\n",
    "    make_column_selector(dtype_include=np.number))\n",
    "  ],\n",
    "  remainder = \"passthrough\"\n",
    ")"
   ]
  },
  {
   "cell_type": "markdown",
   "metadata": {
    "id": "PMmnkQk2576_"
   },
   "source": [
    "###Q1: KNN"
   ]
  },
  {
   "cell_type": "code",
   "execution_count": 16,
   "metadata": {
    "colab": {
     "base_uri": "https://localhost:8080/"
    },
    "id": "Y5YB_Bpw98_4",
    "outputId": "23a12457-2d94-418c-d73c-2559e0d056d2"
   },
   "outputs": [
    {
     "name": "stdout",
     "output_type": "stream",
     "text": [
      "Best Knn: {'knn__n_neighbors': 17}\n",
      "Best cross validated ROC AUC: 0.8408498673740052\n",
      "Confusion Matrix:\n",
      "[[ 90  37]\n",
      " [ 21 125]]\n"
     ]
    }
   ],
   "source": [
    "knn_pipeline = Pipeline([\n",
    "    (\"preprocessing\", ct),\n",
    "    (\"knn\", KNeighborsClassifier())\n",
    "])\n",
    "\n",
    "# Define the hyperparameter grid\n",
    "nn = {'knn__n_neighbors': range(1, 30)}\n",
    "#had to use 30 since thats the number of samples in the second part\n",
    "\n",
    "# Perform grid search\n",
    "knngrid = GridSearchCV(knn_pipeline, nn, cv=5, scoring='roc_auc')  # Ensure scoring is valid for classification\n",
    "knngrid.fit(X, y)  # X and y should correspond to your dataset (classification)\n",
    "\n",
    "# Get the best number of neighbors\n",
    "bestknn = knngrid.best_params_['knn__n_neighbors']\n",
    "\n",
    "# Create a final pipeline with the best parameters\n",
    "knn_final_pipeline = Pipeline([\n",
    "    (\"preprocessing\", ct),\n",
    "    (\"knn\", KNeighborsClassifier(n_neighbors=bestknn))\n",
    "])\n",
    "knnfitt=knn_final_pipeline.fit(X, y)\n",
    "\n",
    "#results\n",
    "print(\"Best Knn:\", knngrid.best_params_)\n",
    "print(\"Best cross validated ROC AUC:\", knngrid.best_score_)\n",
    "\n",
    "#classifier\n",
    "y_predknn = knn_final_pipeline.predict(X)\n",
    "print(\"Confusion Matrix:\")\n",
    "print(confusion_matrix(y, y_predknn))"
   ]
  },
  {
   "cell_type": "markdown",
   "metadata": {
    "id": "-JSxEjZv59LI"
   },
   "source": [
    "###Q2: Logistic Regression"
   ]
  },
  {
   "cell_type": "code",
   "execution_count": 7,
   "metadata": {
    "colab": {
     "base_uri": "https://localhost:8080/"
    },
    "id": "JxEpLeN_Cepd",
    "outputId": "3f653a8c-b7a3-42ad-a60a-7e3de36ab59a"
   },
   "outputs": [
    {
     "name": "stdout",
     "output_type": "stream",
     "text": [
      "Best Logistic Regression Parameters:\n",
      "C: 0.01\n",
      "Best cross validated ROC AUC: 0.8546433244916003\n",
      "Confusion Matrix:\n",
      "[[ 88  39]\n",
      " [ 19 127]]\n"
     ]
    }
   ],
   "source": [
    "logreg_pipeline = Pipeline([\n",
    "    (\"preprocessing\", ct),\n",
    "    (\"logreg\", LogisticRegression(max_iter=1000))  # Logistic Regression with increased iterations for convergence\n",
    "])\n",
    "# Define the hyperparameter grid\n",
    "logreg_params = {\n",
    "    'logreg__C': [0.01, 0.1, 1, 10, 100]\n",
    "}\n",
    "\n",
    "# Perform grid search\n",
    "loggrid = GridSearchCV(logreg_pipeline, logreg_params, cv=5, scoring='roc_auc')\n",
    "loggrid.fit(X, y)\n",
    "\n",
    "# Get the best hyperparameters\n",
    "best_logreg_params = loggrid.best_params_['logreg__C']\n",
    "\n",
    "# Create a final pipeline with the best parameters\n",
    "logreg_final_pipeline = Pipeline([\n",
    "    (\"preprocessing\", ct),\n",
    "    (\"logreg\", LogisticRegression(\n",
    "        C=best_logreg_params,\n",
    "        max_iter=1000\n",
    "    ))\n",
    "])\n",
    "logregfit=logreg_final_pipeline.fit(X, y)\n",
    "\n",
    "#results\n",
    "print(\"Best Logistic Regression Parameters:\")\n",
    "print(\"C:\", best_logreg_params)\n",
    "print(\"Best cross validated ROC AUC:\", loggrid.best_score_)\n",
    "\n",
    "#classifier\n",
    "y_predlogreg = logreg_final_pipeline.predict(X)\n",
    "print(\"Confusion Matrix:\")\n",
    "print(confusion_matrix(y, y_predlogreg))"
   ]
  },
  {
   "cell_type": "markdown",
   "metadata": {
    "id": "ZD3hVnLe6GBM"
   },
   "source": [
    "###Q3: Decision Tree"
   ]
  },
  {
   "cell_type": "code",
   "execution_count": 12,
   "metadata": {
    "colab": {
     "base_uri": "https://localhost:8080/"
    },
    "id": "HU2l-7z25aM4",
    "outputId": "7370b34a-3880-4cf4-fd3b-be278a688f8f"
   },
   "outputs": [
    {
     "name": "stdout",
     "output_type": "stream",
     "text": [
      "Best Decision Tree Parameters:\n",
      "Min Impurity Decrease: 0.01\n",
      "Best cross-validated ROC AUC: 0.7673043324491601\n",
      "Confusion Matrix:\n",
      "[[ 92  35]\n",
      " [ 14 132]]\n"
     ]
    }
   ],
   "source": [
    "dt_pipeline = Pipeline([\n",
    "    (\"preprocessing\", ct),\n",
    "    (\"decision_tree\", DecisionTreeClassifier())\n",
    "])\n",
    "\n",
    "# Hyperparameter grid for 'min_impurity_decrease'\n",
    "dtt = {'decision_tree__min_impurity_decrease': [0.0, 0.01, 0.1, 0.2, 0.3, 0.4, 0.5, 0.6, 0.7, 0.8, 0.9]}\n",
    "\n",
    "# Perform grid search\n",
    "dec_grid = GridSearchCV(dt_pipeline, dtt, cv=5, scoring='roc_auc')\n",
    "dec_grid.fit(X, y)\n",
    "\n",
    "# Get the best hyperparameters\n",
    "best_impurity_decrease = dec_grid.best_params_['decision_tree__min_impurity_decrease']\n",
    "\n",
    "# Create a final pipeline using the best 'min_impurity_decrease'\n",
    "dt_final_pipeline = Pipeline([\n",
    "    (\"preprocessing\", ct),\n",
    "    (\"decision_tree\", DecisionTreeClassifier(min_impurity_decrease=best_impurity_decrease))\n",
    "])\n",
    "\n",
    "# Fit the final model\n",
    "dtfitted = dt_final_pipeline.fit(X, y)\n",
    "\n",
    "# Results\n",
    "print(\"Best Decision Tree Parameters:\")\n",
    "print(\"Min Impurity Decrease:\", best_impurity_decrease)\n",
    "print(\"Best cross-validated ROC AUC:\", dec_grid.best_score_)\n",
    "\n",
    "# Classifier evaluation\n",
    "y_preddt = dt_final_pipeline.predict(X)\n",
    "print(\"Confusion Matrix:\")\n",
    "print(confusion_matrix(y, y_preddt))"
   ]
  },
  {
   "cell_type": "markdown",
   "metadata": {
    "id": "_Bn4VC-u6IBg"
   },
   "source": [
    "###Q4: Interpretation\n",
    "Which predictors were most important to predicting heart attack risk?"
   ]
  },
  {
   "cell_type": "code",
   "execution_count": 15,
   "metadata": {
    "colab": {
     "base_uri": "https://localhost:8080/"
    },
    "id": "xBq1XKIf48EQ",
    "outputId": "d6cdb1a3-1077-44ac-bc21-fb15773d0e36"
   },
   "outputs": [
    {
     "name": "stdout",
     "output_type": "stream",
     "text": [
      "   feature  coefficient\n",
      "2       cp     0.302322\n",
      "6  thalach     0.280505\n",
      "1      sex    -0.252337\n",
      "0      age    -0.136729\n",
      "3   trtbps    -0.097634\n",
      "5  restecg     0.086628\n",
      "4     chol    -0.054690\n"
     ]
    }
   ],
   "source": [
    "\n",
    "#coefficients for logisitc regression\n",
    "coeflr = logreg_final_pipeline.named_steps[\"logreg\"].coef_[0]  # Extract coefficients\n",
    "featrelr = pd.DataFrame({\"feature\": X.columns, \"coefficient\": coeflr})  # Create DataFrame\n",
    "featrelr = featrelr.sort_values(by=\"coefficient\", key=abs, ascending=False)  # Sort by absolute coefficient values\n",
    "print(featrelr)"
   ]
  },
  {
   "cell_type": "markdown",
   "metadata": {
    "id": "p2dMFe9KFeIp"
   },
   "source": [
    "The three most important predictor varaibles for heart disease is CP, Thalach, and Sex. I looked at the logistic regression coefficents because it was the model with the highest ROC AUC."
   ]
  },
  {
   "cell_type": "markdown",
   "metadata": {
    "id": "6yTE0ZDq6OlQ"
   },
   "source": [
    "###Q5: ROC Curve\n",
    "Plot the ROC Curve for your three models above."
   ]
  },
  {
   "cell_type": "code",
   "execution_count": 13,
   "metadata": {
    "colab": {
     "base_uri": "https://localhost:8080/",
     "height": 424
    },
    "id": "r2u4daySOFDz",
    "outputId": "48a49936-3ea7-4095-b612-faec68388270"
   },
   "outputs": [
    {
     "data": {
      "image/png": "[encoded data removed]",
      "text/plain": [
       "<Figure size 1000x600 with 1 Axes>"
      ]
     },
     "metadata": {},
     "output_type": "display_data"
    }
   ],
   "source": [
    "from sklearn.metrics import roc_curve, auc\n",
    "import matplotlib.pyplot as plt\n",
    "plt.figure(figsize=(10, 6))\n",
    "for model, label in zip([knngrid, loggrid, dec_grid], [\"KNN\", \"LogReg\", \"Tree\"]):\n",
    "    y_score = model.predict_proba(ha.drop(\"output\", axis=1))[:, 1]\n",
    "    fpr, tpr, _ = roc_curve(ha[\"output\"], y_score)\n",
    "    roc_auc = auc(fpr, tpr)\n",
    "    plt.plot(fpr, tpr, label=f\"{label} (AUC = {roc_auc:.2f})\")\n",
    "\n",
    "plt.plot([0, 1], [0, 1], \"k--\", label=\"Random\")\n",
    "plt.xlabel(\"False Positive Rate\")\n",
    "plt.ylabel(\"True Positive Rate\")\n",
    "plt.title(\"ROC Curve Comparison\")\n",
    "plt.legend()\n",
    "plt.show()"
   ]
  },
  {
   "cell_type": "markdown",
   "metadata": {
    "id": "nHGvf_T66Z7M"
   },
   "source": [
    "##Part Two: Metrics\n",
    "Consider the following metrics:\n",
    "\n",
    "True Positive Rate or Recall or Sensitivity = Of the observations that are truly Class A, how many were predicted to be Class A?\n",
    "\n",
    "Precision or Positive Predictive Value = Of all the observations classified as Class A, how many of them were truly from Class A?\n",
    "\n",
    "True Negative Rate or Specificity or Negative Predictive Value = Of all the observations classified as NOT Class A, how many were truly NOT Class A?\n",
    "\n",
    "Compute each of these metrics (cross-validated) for your three models (KNN, Logistic Regression, and Decision Tree) in Part One."
   ]
  },
  {
   "cell_type": "code",
   "execution_count": 14,
   "metadata": {
    "colab": {
     "base_uri": "https://localhost:8080/"
    },
    "id": "r7E3lDx4QpMZ",
    "outputId": "1acd5bdc-5a3f-47bb-91d3-a0b2a601ddde"
   },
   "outputs": [
    {
     "name": "stdout",
     "output_type": "stream",
     "text": [
      "\n",
      "Logistic Regression:\n",
      "True Positive Rate (Recall): 0.8699\n",
      "Precision: 0.7427\n",
      "True Negative Rate (Specificity): 0.6535\n",
      "\n",
      "KNN:\n",
      "True Positive Rate (Recall): 0.8219\n",
      "Precision: 0.7692\n",
      "True Negative Rate (Specificity): 0.7165\n",
      "\n",
      "Decision Tree:\n",
      "True Positive Rate (Recall): 0.7534\n",
      "Precision: 0.7857\n",
      "True Negative Rate (Specificity): 0.7638\n"
     ]
    }
   ],
   "source": [
    "from sklearn.model_selection import cross_val_predict\n",
    "from sklearn.metrics import confusion_matrix, recall_score, precision_score, make_scorer\n",
    "import numpy as np\n",
    "#chat helped me write this function\n",
    "# Initialize a dictionary to store metrics\n",
    "metrics = {}\n",
    "\n",
    "# Helper function to compute True Negative Rate (Specificity)\n",
    "def specificity_score(y_true, y_pred):\n",
    "    cm = confusion_matrix(y_true, y_pred)\n",
    "    TN = cm[0, 0]\n",
    "    FP = cm[0, 1]\n",
    "    return TN / (TN + FP)\n",
    "\n",
    "# Compute metrics for each model\n",
    "for model_name, pipeline in [\n",
    "    (\"Logistic Regression\", logreg_final_pipeline),\n",
    "    (\"KNN\", knn_final_pipeline),\n",
    "    (\"Decision Tree\", dt_final_pipeline)\n",
    "]:\n",
    "    # Get cross-validated predictions\n",
    "    y_pred_cv = cross_val_predict(pipeline, X, y, cv=5)\n",
    "\n",
    "    # Confusion matrix\n",
    "    cm = confusion_matrix(y, y_pred_cv)\n",
    "    TN, FP, FN, TP = cm.ravel()\n",
    "\n",
    "    # Calculate metrics\n",
    "    tpr = recall_score(y, y_pred_cv)  # True Positive Rate (Sensitivity/Recall)\n",
    "    precision = precision_score(y, y_pred_cv)  # Precision (Positive Predictive Value)\n",
    "    specificity = specificity_score(y, y_pred_cv)  # True Negative Rate (Specificity)\n",
    "\n",
    "    # Store metrics\n",
    "    metrics[model_name] = {\n",
    "        \"True Positive Rate (Recall)\": tpr,\n",
    "        \"Precision\": precision,\n",
    "        \"True Negative Rate (Specificity)\": specificity\n",
    "    }\n",
    "\n",
    "# Display the results\n",
    "for model, scores in metrics.items():\n",
    "    print(f\"\\n{model}:\")\n",
    "    for metric, value in scores.items():\n",
    "        print(f\"{metric}: {value:.4f}\")"
   ]
  },
  {
   "cell_type": "markdown",
   "metadata": {
    "id": "bAAtijeo6bRa"
   },
   "source": [
    "##Part Three: Discussion\n",
    "Suppose you have been hired by a hospital to create classification models for heart attack risk.\n",
    "\n",
    "The following questions give a possible scenario for why the hospital is interested in these models. For each one, discuss:\n",
    "\n",
    "Which metric(s) you would use for model selection and why.\n",
    "\n",
    "Which of your final models (Part One Q1-3) you would recommend to the hospital, and why.\n",
    "\n",
    "What score you should expect for your chosen metric(s) using your chosen model to predict future observations."
   ]
  },
  {
   "cell_type": "markdown",
   "metadata": {
    "id": "KFfvyFuz6eHb"
   },
   "source": [
    "###Q1\n",
    "The hospital faces severe lawsuits if they deem a patient to be low risk, and that patient later experiences a heart attack."
   ]
  },
  {
   "cell_type": "markdown",
   "metadata": {
    "id": "D1PzEPLqgzBB"
   },
   "source": [
    "The hospital wants to prevent classifing someone as not in risk of a heart disease. They want to prevent false negatives. They want to do this in order to prevent possibly being sued by people that were falsley give an all clear sign than had an actual heart problem. This way they can prevent possibly being sued by people. In order to do this they want to insure a high recall. So for this I would recommend using the logisitic regression model because it has the highest recall rate. So it's the most effect at identifying true positives. The exepect score would be .8699."
   ]
  },
  {
   "cell_type": "markdown",
   "metadata": {
    "id": "dCgh_1l16gp9"
   },
   "source": [
    "###Q2\n",
    "The hospital is overfull, and wants to only use bed space for patients most in need of monitoring due to heart attack risk."
   ]
  },
  {
   "cell_type": "markdown",
   "metadata": {
    "id": "9r-a9m9MjfNY"
   },
   "source": [
    "The hosiptal wants to prevent giving out beds to people who don't need beds. So they would try to reduce the amount of false positives to make sure they only allocate beds to the people who actually need it. So they would focus on precision. For precision I would recommend using the decsicion tree model because it has the highest precision rate making it the best at accuratly identifing true positives. The expected score would be .7857."
   ]
  },
  {
   "cell_type": "markdown",
   "metadata": {
    "id": "g8JxOgXa6jQk"
   },
   "source": [
    "###Q3\n",
    "The hospital is studying root causes of heart attacks, and would like to understand which biological measures are associated with heart attack risk."
   ]
  },
  {
   "cell_type": "markdown",
   "metadata": {
    "id": "xER0SUJCj9Fx"
   },
   "source": [
    "In this case the hospital wants to understand the relationships behind the models in identifiying the key varaibles that are related to heart attacks. So it would be more effective if the hospital looks at the key variables in the models instead. Speciicaaly the logistic regression model or the decision tree model. This is because the logistic regression fit the model the best so looking at the coeficents of the model would show which variables are the most important. And for the decision tree by looking at where the model branches you see what the most important factors are."
   ]
  },
  {
   "cell_type": "markdown",
   "metadata": {
    "id": "A44EkpFH6nAW"
   },
   "source": [
    "###Q4\n",
    "The hospital is training a new batch of doctors, and they would like to compare the diagnoses of these doctors to the predictions given by the algorithm to measure the ability of new doctors to diagnose patients."
   ]
  },
  {
   "cell_type": "markdown",
   "metadata": {
    "id": "S5OyqSOdkjqL"
   },
   "source": [
    "The hospital wants to evaluate the difference between predictions made by the mdoel with what the doctors diagnosis someone with. They goal is for the model to match what the doctors diagnosis is. This way the accuracy of both the model and the doctors would be correct. So to compare this the hospital should focus on accuracy. THis way they can see exactly how many time the model differs from the doctors. I would reccomend the KNN as the model of choice because it has a balance of recall at .82, with precision at .76 and specificity at .71. So for knn you can assume an accuracy score of .77."
   ]
  },
  {
   "cell_type": "markdown",
   "metadata": {
    "id": "LGa0IQhw6t51"
   },
   "source": [
    "##Part Four: Validation\n",
    "Before sharing the dataset with you, I set aside a random 10% of the observations to serve as a final validation set.\n",
    "\n",
    "ha_validation = pd.read_csv(\"https://www.dropbox.com/s/jkwqdiyx6o6oad0/heart_attack_validation.csv?dl=1\")\n",
    "Use each of your final models in Part One Q1-3, predict the target variable in the validation dataset.\n",
    "\n",
    "For each, output a confusion matrix, and report the ROC AUC, the precision, and the recall.\n",
    "\n",
    "Compare these values to the cross-validated estimates you reported in Part One and Part Two. Did our measure of model success turn out to be approximately correct for the validation data?"
   ]
  },
  {
   "cell_type": "code",
   "execution_count": 17,
   "metadata": {
    "colab": {
     "base_uri": "https://localhost:8080/"
    },
    "id": "jRP1ltItXhvd",
    "outputId": "4830099c-44e6-4fcf-e831-dd225b6a679a"
   },
   "outputs": [
    {
     "name": "stdout",
     "output_type": "stream",
     "text": [
      "Best Knn: {'knn__n_neighbors': 17}\n",
      "Best cross validated ROC AUC: 0.8408498673740052\n",
      "Confusion Matrix Knn:\n",
      "[[ 1 10]\n",
      " [ 0 19]]\n",
      "Best Logistic Regression Parameters:\n",
      "C: 0.01\n",
      "Best cross validated ROC AUC: 0.8546433244916003\n",
      "Confusion Matrix log:\n",
      "[[ 0 11]\n",
      " [ 0 19]]\n",
      "Best Decision Tree Parameters:\n",
      "Max Depth: 0.01\n",
      "Best cross validated ROC AUC: 0.7673043324491601\n",
      "Confusion Matrix dt:\n",
      "[[11  0]\n",
      " [ 0 19]]\n"
     ]
    }
   ],
   "source": [
    "ha_validation = pd.read_csv(\"https://www.dropbox.com/s/jkwqdiyx6o6oad0/heart_attack_validation.csv?dl=1\")\n",
    "good_cols = ha_validation.isna().sum() < 100\n",
    "ha_validation = ha_validation.loc[:,good_cols]\n",
    "\\ha_validation = ha_validation.dropna()\n",
    "\n",
    "X2= ha_validation.drop([\"output\"], axis = 1)\n",
    "y2= ha_validation[\"output\"]\n",
    "\n",
    "#knn\n",
    "knnfitt=knn_final_pipeline.fit(X2, y2)\n",
    "\n",
    "#results\n",
    "print(\"Best Knn:\", knngrid.best_params_)\n",
    "print(\"Best cross validated ROC AUC:\", knngrid.best_score_)\n",
    "\n",
    "#classifier\n",
    "y2_predknn = knn_final_pipeline.predict(X2)\n",
    "print(\"Confusion Matrix Knn:\")\n",
    "print(confusion_matrix(y2, y2_predknn))\n",
    "\n",
    "#Logistic regression\n",
    "logregfit=logreg_final_pipeline.fit(X2, y2)\n",
    "\n",
    "#results\n",
    "print(\"Best Logistic Regression Parameters:\")\n",
    "print(\"C:\", best_logreg_params)\n",
    "print(\"Best cross validated ROC AUC:\", loggrid.best_score_)\n",
    "\n",
    "#classifier\n",
    "y2_predlogreg = logreg_final_pipeline.predict(X2)\n",
    "print(\"Confusion Matrix log:\")\n",
    "print(confusion_matrix(y2, y2_predlogreg))\n",
    "\n",
    "#decision tree\n",
    "dtfitted=dt_final_pipeline.fit(X2, y2)\n",
    "\n",
    "#results\n",
    "print(\"Best Decision Tree Parameters:\")\n",
    "print(\"Max Depth:\", best_depth)\n",
    "print(\"Best cross validated ROC AUC:\", dec_grid.best_score_)\n",
    "\n",
    "#classifier\n",
    "y2_preddt = dt_final_pipeline.predict(X2)\n",
    "print(\"Confusion Matrix dt:\")\n",
    "print(confusion_matrix(y2, y2_preddt))"
   ]
  },
  {
   "cell_type": "markdown",
   "metadata": {
    "id": "nMS8hZTs6yjB"
   },
   "source": [
    "##Part Five: Cohen’s Kappa\n",
    "Another common metric used in classification is Cohen’s Kappa.\n",
    "\n",
    "Use online resources to research this measurement. Calculate it for the models from Part One, Q1-3, and discuss reasons or scenarios that would make us prefer to use this metric as our measure of model success. Do your conclusions from above change if you judge your models using Cohen’s Kappa instead? Does this make sense?"
   ]
  },
  {
   "cell_type": "code",
   "execution_count": 17,
   "metadata": {
    "colab": {
     "base_uri": "https://localhost:8080/"
    },
    "id": "HTXF8f8E8xsQ",
    "outputId": "36f22fe6-d11a-4297-d308-4608ea57bf4d"
   },
   "outputs": [
    {
     "name": "stdout",
     "output_type": "stream",
     "text": [
      "Logistic Regression Cohen's Kappa: 0.5302\n",
      "KNN Cohen's Kappa: 0.5264\n",
      "Decision Tree Cohen's Kappa: 0.5095\n"
     ]
    }
   ],
   "source": [
    "from sklearn.metrics import cohen_kappa_score, confusion_matrix\n",
    "from sklearn.model_selection import cross_val_predict\n",
    "\n",
    "# Initialize a dictionary to store metrics\n",
    "kappa_scores = {}\n",
    "\n",
    "# Compute Cohen's Kappa for each model\n",
    "for model_name, pipeline in [\n",
    "    (\"Logistic Regression\", logreg_final_pipeline),\n",
    "    (\"KNN\", knn_final_pipeline),\n",
    "    (\"Decision Tree\", dt_final_pipeline)\n",
    "]:\n",
    "    # Get cross-validated predictions\n",
    "    y_pred_cv = cross_val_predict(pipeline, X, y, cv=5)\n",
    "\n",
    "    # Calculate Cohen's Kappa\n",
    "    kappa = cohen_kappa_score(y, y_pred_cv)\n",
    "\n",
    "    # Store the score\n",
    "    kappa_scores[model_name] = kappa\n",
    "\n",
    "# Display the results\n",
    "for model, kappa in kappa_scores.items():\n",
    "    print(f\"{model} Cohen's Kappa: {kappa:.4f}\")\n"
   ]
  },
  {
   "cell_type": "markdown",
   "metadata": {
    "id": "KqTKctsW8-fO"
   },
   "source": [
    "...."
   ]
  }
 ],
 "metadata": {
  "colab": {
   "provenance": []
  },
  "kernelspec": {
   "display_name": "Python 3",
   "name": "python3"
  },
  "language_info": {
   "name": "python"
  }
 },
 "nbformat": 4,
 "nbformat_minor": 0
}
